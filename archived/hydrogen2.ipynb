{
 "nbformat": 4,
 "nbformat_minor": 0,
 "metadata": {
  "colab": {
   "provenance": [],
   "gpuType": "T4"
  },
  "kernelspec": {
   "name": "python3",
   "language": "python",
   "display_name": "Python 3 (ipykernel)"
  },
  "language_info": {
   "name": "python"
  },
  "accelerator": "GPU"
 },
 "cells": [
  {
   "cell_type": "code",
   "source": [
    "import numpy as np\n",
    "import multiprocessing\n",
    "import matplotlib.pyplot as plt\n",
    "from tqdm import tqdm\n",
    "from qiskit_nature.units import DistanceUnit\n",
    "from qiskit_nature.second_q.drivers import PySCFDriver\n",
    "from qiskit_nature.second_q.mappers import JordanWignerMapper\n",
    "from qiskit_algorithms import VQE\n",
    "from qiskit_algorithms.optimizers import L_BFGS_B, SPSA\n",
    "from qiskit.primitives import Estimator\n",
    "from qiskit_algorithms.utils import algorithm_globals\n",
    "from qiskit_aer.primitives import Estimator as AerEstimator\n",
    "from qiskit_nature.second_q.circuit.library import HartreeFock, UCCSD\n",
    "from qiskit_nature.second_q.algorithms import GroundStateEigensolver\n",
    "from qiskit import QuantumCircuit\n",
    "from qiskit_aer.noise import (NoiseModel, QuantumError, ReadoutError, pauli_error, depolarizing_error, thermal_relaxation_error)\n",
    "from qiskit_nature.second_q.mappers import ParityMapper"
   ],
   "metadata": {
    "id": "z6HskcicV0PI",
    "ExecuteTime": {
     "end_time": "2024-07-31T15:51:09.154623Z",
     "start_time": "2024-07-31T15:51:07.876322Z"
    }
   },
   "execution_count": 1,
   "outputs": []
  },
  {
   "cell_type": "code",
   "source": [
    "driver = PySCFDriver(\n",
    "    atom=\"H 0 0 0; H 0 0 0.725\",\n",
    "    basis=\"sto3g\",\n",
    "    charge=0,\n",
    "    spin=0,\n",
    "    unit=DistanceUnit.ANGSTROM,\n",
    ")\n",
    "\n",
    "es_problem = driver.run()"
   ],
   "metadata": {
    "id": "R_7LvL0k5v3t",
    "ExecuteTime": {
     "end_time": "2024-07-31T15:51:09.240118Z",
     "start_time": "2024-07-31T15:51:09.155732Z"
    }
   },
   "execution_count": 2,
   "outputs": []
  },
  {
   "cell_type": "code",
   "source": [
    "mapper = ParityMapper(num_particles=es_problem.num_particles)"
   ],
   "metadata": {
    "id": "fTYUv6eTB7D6",
    "ExecuteTime": {
     "end_time": "2024-07-31T15:51:09.242894Z",
     "start_time": "2024-07-31T15:51:09.240731Z"
    }
   },
   "execution_count": 3,
   "outputs": []
  },
  {
   "cell_type": "code",
   "source": [
    "print(\"Hamiltonian of Molecule:\")\n",
    "hamiltonian = es_problem.hamiltonian.second_q_op()\n",
    "qubit_op = mapper.map(hamiltonian)\n",
    "aux_op = mapper.map(es_problem.second_q_ops()[1])\n",
    "for pauli, coeff in sorted(qubit_op.label_iter()):\n",
    "    print(f\"{coeff.real:+.8f} * {pauli}\")"
   ],
   "metadata": {
    "colab": {
     "base_uri": "https://localhost:8080/"
    },
    "id": "62puHig9ilV6",
    "outputId": "b79bcde4-c963-48e0-8a9d-2ed6957164c5",
    "ExecuteTime": {
     "end_time": "2024-07-31T15:51:09.281643Z",
     "start_time": "2024-07-31T15:51:09.243674Z"
    }
   },
   "execution_count": 4,
   "outputs": [
    {
     "name": "stdout",
     "output_type": "stream",
     "text": [
      "Hamiltonian of Molecule:\n",
      "-1.05016043 * II\n",
      "+0.40421466 * IZ\n",
      "+0.18037525 * XX\n",
      "-0.40421466 * ZI\n",
      "-0.01134688 * ZZ\n"
     ]
    }
   ]
  },
  {
   "cell_type": "code",
   "source": [
    "class ThermalNoiseModel(NoiseModel):\n",
    "    def __init__(self, t1, t2):\n",
    "        super().__init__()\n",
    "        self.t1 = t1\n",
    "        self.t2 = t2\n",
    "        self.time_cx = 150\n",
    "        self.time_swap = 40\n",
    "        self.single_gate_times = {\n",
    "            \"h\": 40,\n",
    "            \"x\": 40,\n",
    "            \"y\": 40,\n",
    "            \"z\": 40,\n",
    "            \"s\": 40,\n",
    "            \"rx\": 40,\n",
    "            \"rz\": 40,\n",
    "            \"sdg\": 40,\n",
    "        }\n",
    "\n",
    "        self.add_errors()\n",
    "\n",
    "    def add_errors(self):\n",
    "        for gate, time in self.single_gate_times.items():\n",
    "            self.add_all_qubit_quantum_error(thermal_relaxation_error(self.t1, self.t2, time), gate)\n",
    "        self.add_all_qubit_quantum_error(thermal_relaxation_error(self.t1, self.t2, self.time_cx)\n",
    "            .expand(thermal_relaxation_error(self.t1, self.t2, self.time_cx)), \"cx\")\n",
    "        self.add_all_qubit_quantum_error(thermal_relaxation_error(self.t1, self.t2, self.time_swap)\n",
    "            .expand(thermal_relaxation_error(self.t1, self.t2, self.time_swap)), \"swap\")"
   ],
   "metadata": {
    "id": "Js_2oRJe5nHh",
    "ExecuteTime": {
     "end_time": "2024-07-31T15:51:12.465950Z",
     "start_time": "2024-07-31T15:51:12.462485Z"
    }
   },
   "execution_count": 5,
   "outputs": []
  },
  {
   "cell_type": "code",
   "source": [
    "seed = 100\n",
    "\n",
    "noisy_estimator = AerEstimator(\n",
    "    backend_options={\n",
    "        \"method\": \"density_matrix\",\n",
    "        \"coupling_map\": [(0, 1), (1, 2)],\n",
    "        \"noise_model\": ThermalNoiseModel(10e3, 5e3),\n",
    "    },\n",
    "    run_options={\"seed\": seed, \"shots\": 1024},\n",
    "    transpile_options={\"seed_transpiler\": seed},\n",
    ")\n",
    "\n",
    "noiseless_estimator = AerEstimator(\n",
    "    run_options={\"seed\": seed, \"shots\": 1024},\n",
    "    transpile_options={\"seed_transpiler\": seed}\n",
    ")"
   ],
   "metadata": {
    "id": "uho2IXEH9Ynp",
    "ExecuteTime": {
     "end_time": "2024-07-31T15:51:13.603172Z",
     "start_time": "2024-07-31T15:51:13.594998Z"
    }
   },
   "execution_count": 6,
   "outputs": []
  },
  {
   "cell_type": "code",
   "source": [
    "ansatz = UCCSD(\n",
    "    es_problem.num_spatial_orbitals,\n",
    "    es_problem.num_particles,\n",
    "    mapper,\n",
    "    initial_state=HartreeFock(\n",
    "        es_problem.num_spatial_orbitals,\n",
    "        es_problem.num_particles,\n",
    "        mapper,\n",
    "    ),\n",
    ")\n",
    "\n",
    "vqe = VQE(noisy_estimator, ansatz, SPSA())\n",
    "vqe.initial_point = [0.0] * ansatz.num_parameters"
   ],
   "metadata": {
    "id": "_1y2Yfgj-i5w",
    "ExecuteTime": {
     "end_time": "2024-07-31T15:51:14.285082Z",
     "start_time": "2024-07-31T15:51:14.274260Z"
    }
   },
   "execution_count": 7,
   "outputs": []
  },
  {
   "cell_type": "code",
   "source": [
    "for gate, cnt in ansatz.decompose(reps=3).count_ops().items():\n",
    "    print(f\"{gate.upper()} Gate - {cnt}\")"
   ],
   "metadata": {
    "colab": {
     "base_uri": "https://localhost:8080/"
    },
    "id": "CC72yPX0ENvp",
    "outputId": "69985a91-8381-45b6-ef3b-e1787202f639",
    "ExecuteTime": {
     "end_time": "2024-07-31T15:51:15.455108Z",
     "start_time": "2024-07-31T15:51:15.439691Z"
    }
   },
   "execution_count": 8,
   "outputs": [
    {
     "name": "stdout",
     "output_type": "stream",
     "text": [
      "H Gate - 8\n",
      "CX Gate - 4\n",
      "R Gate - 2\n",
      "SDG Gate - 2\n",
      "RZ Gate - 2\n",
      "S Gate - 2\n",
      "U Gate - 1\n"
     ]
    }
   ]
  },
  {
   "cell_type": "code",
   "source": [
    "ansatz.decompose(reps=3).draw(output=\"mpl\")"
   ],
   "metadata": {
    "colab": {
     "base_uri": "https://localhost:8080/",
     "height": 127
    },
    "id": "ZxpKCZaNEPWt",
    "outputId": "d79cf8a7-1da9-4b0b-f282-354e2278cb37",
    "ExecuteTime": {
     "end_time": "2024-07-31T15:51:16.135661Z",
     "start_time": "2024-07-31T15:51:15.689792Z"
    }
   },
   "execution_count": 9,
   "outputs": [
    {
     "data": {
      "text/plain": "<Figure size 1109.85x144.48 with 1 Axes>",
      "image/png": "[encoded data removed]"
     },
     "execution_count": 9,
     "metadata": {},
     "output_type": "execute_result"
    }
   ]
  },
  {
   "cell_type": "code",
   "source": [
    "result = vqe.compute_minimum_eigenvalue(qubit_op, aux_op)\n",
    "res = es_problem.interpret(result)\n",
    "res.total_energies[0]"
   ],
   "metadata": {
    "colab": {
     "base_uri": "https://localhost:8080/"
    },
    "id": "5v2YKPTo9Me3",
    "outputId": "d2b37af7-0386-456d-b257-a0d7b34501d2",
    "ExecuteTime": {
     "end_time": "2024-07-31T15:51:16.909420Z",
     "start_time": "2024-07-31T15:51:16.136625Z"
    }
   },
   "execution_count": 10,
   "outputs": [
    {
     "data": {
      "text/plain": "-0.9753837659353171"
     },
     "execution_count": 10,
     "metadata": {},
     "output_type": "execute_result"
    }
   ]
  },
  {
   "cell_type": "code",
   "source": [
    "calculated = res.eigenvalues[0] + res._nuclear_repulsion_energy\n",
    "actual = res._hartree_fock_energy\n",
    "print(\"Total Calculated Energy:\", calculated)\n",
    "print(\"Actual Energy:\", res._hartree_fock_energy)\n",
    "print(f\"Percentage Error: {(calculated - actual) / calculated * 100:.4f}%\")"
   ],
   "metadata": {
    "colab": {
     "base_uri": "https://localhost:8080/"
    },
    "id": "3eFOV3u9_JXC",
    "outputId": "4073f462-473e-48f1-abea-b03b98a2f8c6",
    "ExecuteTime": {
     "end_time": "2024-07-31T15:51:17.810302Z",
     "start_time": "2024-07-31T15:51:17.807867Z"
    }
   },
   "execution_count": 11,
   "outputs": [
    {
     "name": "stdout",
     "output_type": "stream",
     "text": [
      "Total Calculated Energy: -0.9753837659353171\n",
      "Actual Energy: -1.117343269122583\n",
      "Percentage Error: -14.5542%\n"
     ]
    }
   ]
  },
  {
   "cell_type": "code",
   "source": [
    "# distances = np.hstack((np.arange(0.2, 1.55, 0.05), np.arange(1.75, 4.25, 0.25)))\n",
    "distances = np.arange(0.2, 4.25, 0.01)\n",
    "vqe_energies = []\n",
    "\n",
    "for distance in tqdm(distances, desc=\"Calculating energies\"):\n",
    "    driver = PySCFDriver(\n",
    "        atom=f\"H 0 0 0; H 0 0 {distance}\",\n",
    "        basis=\"sto3g\",\n",
    "        charge=0,\n",
    "        spin=0,\n",
    "        unit=DistanceUnit.ANGSTROM,\n",
    "    )\n",
    "    es_problem = driver.run()\n",
    "    qubit_op, aux_op = es_problem.second_q_ops()\n",
    "    qubit_op, aux_op = mapper.map(qubit_op), mapper.map(aux_op)\n",
    "    raw_result = vqe.compute_minimum_eigenvalue(qubit_op, aux_op)\n",
    "    res = es_problem.interpret(raw_result)\n",
    "    vqe_energies.append(res.total_energies[0])"
   ],
   "metadata": {
    "colab": {
     "base_uri": "https://localhost:8080/"
    },
    "id": "e3JkjUvX--jS",
    "outputId": "af52d613-b06a-44e4-9bb6-be5dd5b044cf",
    "ExecuteTime": {
     "end_time": "2024-07-31T15:55:43.965441Z",
     "start_time": "2024-07-31T15:51:27.658764Z"
    }
   },
   "execution_count": 12,
   "outputs": [
    {
     "name": "stderr",
     "output_type": "stream",
     "text": [
      "Calculating energies: 100%|██████████| 405/405 [04:16<00:00,  1.58it/s]\n"
     ]
    }
   ]
  },
  {
   "cell_type": "code",
   "source": [
    "kernel_size = 5\n",
    "kernel = np.ones(kernel_size) / kernel_size\n",
    "vqe_energies = np.array(vqe_energies)\n",
    "\n",
    "# Apply convolution to smooth the energies\n",
    "smoothed_energies = np.convolve(vqe_energies, kernel, mode='valid')\n",
    "\n",
    "# Adjust distances to match the length of the smoothed energies\n",
    "adjusted_distances = distances[(kernel_size-1)//2:-(kernel_size-1)//2] if kernel_size % 2 != 0 else distances[(kernel_size)//2:-(kernel_size)//2]\n",
    "\n",
    "# Find the minimum energy and corresponding distance\n",
    "min_energy = smoothed_energies.min()\n",
    "min_energy_distance = adjusted_distances[smoothed_energies.argmin()]\n",
    "\n",
    "# Plot the original and smoothed energies\n",
    "plt.figure(figsize=(15, 10))\n",
    "plt.plot(distances, vqe_energies, 'o', label='Original VQE Energies', color='red')\n",
    "plt.plot(adjusted_distances, smoothed_energies, '-', label='Smoothed VQE Energies', color='blue')\n",
    "\n",
    "# Draw a horizontal line at the minimum energy point\n",
    "plt.axhline(min_energy, color='green', linestyle='--', label=f'Minimum Energy at {min_energy:.6f} Hartree')\n",
    "plt.scatter(min_energy_distance, min_energy, color='green')  # Mark the minimum point\n",
    "plt.text(distances[-1], min_energy, f'{min_energy_distance:.6f} Angstrom, {min_energy:.6f} Hartree', color='green', fontsize=14, ha='right', va='bottom')\n",
    "\n",
    "\n",
    "plt.xlabel('Distance (Angstrom)')\n",
    "plt.ylabel('Energy (Hartree)')\n",
    "plt.title('Ground Energy against Atomic Distance')\n",
    "plt.legend()\n",
    "plt.grid(True)\n",
    "plt.show()\n",
    "\n",
    "print(f\"The minimum energy is {min_energy:.6f} Hartree at a distance of {min_energy_distance:.6f} Angstrom\")"
   ],
   "metadata": {
    "colab": {
     "base_uri": "https://localhost:8080/",
     "height": 889
    },
    "id": "BYaAQuYqDN4V",
    "outputId": "fdaaa093-30de-43ca-acaf-6e2aff51f316",
    "ExecuteTime": {
     "end_time": "2024-07-31T15:56:19.591815Z",
     "start_time": "2024-07-31T15:56:19.512754Z"
    }
   },
   "execution_count": 14,
   "outputs": [
    {
     "data": {
      "text/plain": "<Figure size 1080x720 with 1 Axes>",
      "image/png": "[encoded data removed]"
     },
     "metadata": {
      "needs_background": "light"
     },
     "output_type": "display_data"
    },
    {
     "name": "stdout",
     "output_type": "stream",
     "text": [
      "The minimum energy is -0.997673 Hartree at a distance of 0.830000 Angstrom\n"
     ]
    }
   ]
  }
 ]
}
