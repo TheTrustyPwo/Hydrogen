{
 "cells": [
  {
   "cell_type": "code",
   "outputs": [
    {
     "name": "stderr",
     "output_type": "stream",
     "text": [
      "Evaluating simulation:   0%|          | 0/20 [00:00<?, ?it/s]/tmp/ipykernel_131888/356350783.py:123: DeprecationWarning: Option approximation=False is deprecated as of qiskit-aer 0.13. It will be removed no earlier than 3 months after the release date. Instead, use BackendEstimator from qiskit.primitives.\n",
      "  calculator = EnergyCalculator(accuracy)\n",
      "Evaluating simulation: 100%|██████████| 20/20 [01:04<00:00,  3.23s/it]\n"
     ]
    }
   ],
   "source": [
    "import numpy as np\n",
    "import matplotlib.pyplot as plt\n",
    "from tqdm import tqdm\n",
    "from qiskit_nature.units import DistanceUnit\n",
    "from qiskit_nature.second_q.drivers import PySCFDriver\n",
    "from qiskit_nature.second_q.mappers import JordanWignerMapper\n",
    "from qiskit_algorithms import VQE\n",
    "from qiskit_algorithms.optimizers import L_BFGS_B\n",
    "from qiskit.primitives import Estimator\n",
    "from qiskit_algorithms.utils import algorithm_globals\n",
    "from qiskit_aer.primitives import Estimator as AerEstimator\n",
    "from qiskit_nature.second_q.circuit.library import HartreeFock, UCCSD\n",
    "from qiskit_nature.second_q.algorithms import GroundStateEigensolver\n",
    "from qiskit import QuantumCircuit\n",
    "from qiskit import QuantumCircuit, transpile\n",
    "from qiskit.quantum_info import Kraus, SuperOp\n",
    "from qiskit_aer import AerSimulator\n",
    "from qiskit.visualization import plot_histogram\n",
    "from qiskit_aer.noise import (NoiseModel, QuantumError, ReadoutError,\n",
    "    pauli_error, depolarizing_error, thermal_relaxation_error)\n",
    "from scipy.interpolate import interp1d\n",
    "from scipy.optimize import minimize_scalar\n",
    "\n",
    "seed = 69\n",
    "mapper = JordanWignerMapper()\n",
    "driver = PySCFDriver(\n",
    "    atom=f\"H 0 0 0; H 0 0 0.725\",\n",
    "    basis=\"sto3g\",\n",
    "    charge=0,\n",
    "    spin=0,\n",
    "    unit=DistanceUnit.ANGSTROM,\n",
    ")\n",
    "\n",
    "def create_ansatz(es_problem):\n",
    "    return UCCSD(\n",
    "        es_problem.num_spatial_orbitals,\n",
    "        es_problem.num_particles,\n",
    "        mapper,\n",
    "        initial_state=HartreeFock(\n",
    "            es_problem.num_spatial_orbitals,\n",
    "            es_problem.num_particles,\n",
    "            mapper,\n",
    "        ),\n",
    "    )\n",
    "\n",
    "def create_vqe_solver(estimator, ansatz):\n",
    "    vqe_solver = VQE(estimator, ansatz, L_BFGS_B())\n",
    "    vqe_solver.initial_point = [0.0] * ansatz.num_parameters\n",
    "    return vqe_solver\n",
    "\n",
    "class ThermalNoiseModel(NoiseModel):\n",
    "    def __init__(self, t1s, t2s):\n",
    "        super().__init__()\n",
    "        self.t1s = t1s\n",
    "        self.t2s = t2s\n",
    "        # self.t1s = np.random.normal(100e3, 10e3, 4) # in us\n",
    "        # self.t2s = np.random.normal(140e3, 10e3, 4)\n",
    "        # self.t2s = np.array([min(self.t2s[j], 2 * self.t1s[j]) for j in range(4)])\n",
    "\n",
    "        self.time_cx = 300\n",
    "        self.time_reset = 1000\n",
    "        self.time_measure = 1000\n",
    "\n",
    "        self.add_errors()\n",
    "\n",
    "    def add_errors(self):\n",
    "        errors_cx = [[thermal_relaxation_error(t1a, t2a, self.time_cx).expand(thermal_relaxation_error(t1b, t2b, self.time_cx))\n",
    "              for t1a, t2a in zip(self.t1s, self.t2s)] for t1b, t2b in zip(self.t1s, self.t2s)]\n",
    "        errors_reset = [thermal_relaxation_error(t1, t2, self.time_reset) for t1, t2 in zip(self.t1s, self.t2s)]\n",
    "        errors_measure = [thermal_relaxation_error(t1, t2, self.time_measure) for t1, t2 in zip(self.t1s, self.t2s)]\n",
    "\n",
    "        for j in range(4):\n",
    "            self.add_quantum_error(errors_reset[j], \"reset\", [j])\n",
    "            self.add_quantum_error(errors_measure[j], \"measure\", [j])\n",
    "            for k in range(4):\n",
    "                self.add_quantum_error(errors_cx[j][k], \"cx\", [j, k])\n",
    "\n",
    "\n",
    "class EnergyCalculator:\n",
    "    def __init__(self, acc):\n",
    "        self.estimator = AerEstimator(\n",
    "            backend_options={\n",
    "                \"method\": \"density_matrix\",\n",
    "                \"noise_model\": ThermalNoiseModel(\n",
    "                    np.random.normal(acc * 10e3, acc * 1e3, 4),\n",
    "                    np.random.normal(acc * 15e3, acc * 1e3, 4)\n",
    "                ),\n",
    "            },\n",
    "            run_options={\"seed\": seed, \"shots\": 1024},\n",
    "            transpile_options={\"seed_transpiler\": seed},\n",
    "        )\n",
    "        self.calc = GroundStateEigensolver(mapper, create_vqe_solver(self.estimator, ansatz))\n",
    "        self.vqe_energies = []\n",
    "\n",
    "    def calculate(self):\n",
    "        self.vqe_energies = []\n",
    "        for distance in distances:\n",
    "            driver = PySCFDriver(\n",
    "                atom=f\"H 0 0 0; H 0 0 {distance}\",\n",
    "                basis=\"sto3g\",\n",
    "                charge=0,\n",
    "                spin=0,\n",
    "                unit=DistanceUnit.ANGSTROM,\n",
    "            )\n",
    "            es_problem = driver.run()\n",
    "            res = self.calc.solve(es_problem)\n",
    "            self.vqe_energies.append(res.eigenvalues[0] + res._nuclear_repulsion_energy)\n",
    "\n",
    "    def minimum(self):\n",
    "        interpolated_function = interp1d(distances, self.vqe_energies, kind='cubic')\n",
    "        result = minimize_scalar(interpolated_function, bounds=(distances.min(), distances.max()), method='bounded')\n",
    "        return result.fun, result.x\n",
    "\n",
    "es_problem = driver.run()\n",
    "ansatz = create_ansatz(es_problem)\n",
    "# distances = np.hstack((np.arange(0.2, 1.55, 0.05), np.arange(1.75, 4.25, 0.25)))\n",
    "distances = np.arange(0.5, 1.55, 0.05)\n",
    "\n",
    "# accuracies = np.hstack((np.arange(1, 21, 2), np.arange(30, 210, 10)))\n",
    "accuracies = np.arange(20, 420, 20)\n",
    "results = []\n",
    "for accuracy in tqdm(accuracies, desc=\"Evaluating simulation\"):\n",
    "    calculator = EnergyCalculator(accuracy)\n",
    "    calculator.calculate()\n",
    "    results.append(calculator.minimum())"
   ],
   "metadata": {
    "collapsed": false,
    "ExecuteTime": {
     "end_time": "2024-06-21T09:16:50.143924Z",
     "start_time": "2024-06-21T09:15:45.424610Z"
    }
   },
   "id": "19f83cd7bdd7b058",
   "execution_count": 28
  },
  {
   "cell_type": "code",
   "outputs": [],
   "source": [
    "energies = []\n",
    "for result in results:\n",
    "    energies.append(result[0].item())"
   ],
   "metadata": {
    "collapsed": false,
    "ExecuteTime": {
     "end_time": "2024-06-21T09:16:51.468758Z",
     "start_time": "2024-06-21T09:16:51.466719Z"
    }
   },
   "id": "f145f7e5aff4f925",
   "execution_count": 29
  },
  {
   "cell_type": "code",
   "outputs": [
    {
     "data": {
      "text/plain": "<Figure size 1080x720 with 1 Axes>",
      "image/png": "[encoded data removed]"
     },
     "metadata": {
      "needs_background": "light"
     },
     "output_type": "display_data"
    }
   ],
   "source": [
    "plt.figure(figsize=(15, 10))\n",
    "plt.style.use('fast')\n",
    "plt.plot(accuracies, energies, label=\"Energy\")\n",
    "plt.axhline(y=-1.117506, color='r', label=\"Actual Energy\")\n",
    "plt.xlabel('Accuracy')\n",
    "plt.ylabel('Energy (Hartree)')\n",
    "plt.grid(True)\n",
    "plt.legend()\n",
    "plt.show()"
   ],
   "metadata": {
    "collapsed": false,
    "ExecuteTime": {
     "end_time": "2024-06-21T09:16:51.759948Z",
     "start_time": "2024-06-21T09:16:51.692079Z"
    }
   },
   "id": "2f8eb604e4462d20",
   "execution_count": 30
  },
  {
   "cell_type": "code",
   "outputs": [],
   "source": [],
   "metadata": {
    "collapsed": false
   },
   "id": "6638be18e64623eb"
  }
 ],
 "metadata": {
  "kernelspec": {
   "display_name": "Python 3",
   "language": "python",
   "name": "python3"
  },
  "language_info": {
   "codemirror_mode": {
    "name": "ipython",
    "version": 2
   },
   "file_extension": ".py",
   "mimetype": "text/x-python",
   "name": "python",
   "nbconvert_exporter": "python",
   "pygments_lexer": "ipython2",
   "version": "2.7.6"
  }
 },
 "nbformat": 4,
 "nbformat_minor": 5
}
