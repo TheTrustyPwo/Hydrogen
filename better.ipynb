{
 "cells": [
  {
   "cell_type": "code",
   "execution_count": 116,
   "id": "initial_id",
   "metadata": {
    "collapsed": true,
    "ExecuteTime": {
     "end_time": "2024-10-14T14:08:36.072024Z",
     "start_time": "2024-10-14T14:08:36.069605Z"
    }
   },
   "outputs": [],
   "source": [
    "import qibo\n",
    "import torch\n",
    "import numpy as np\n",
    "from qibo import Circuit, gates, models\n",
    "from qibo.optimizers import sgd\n",
    "\n",
    "from qibochem.driver.molecule import Molecule\n",
    "from qibochem.ansatz import hf_circuit, ucc_circuit\n",
    "from qibochem.measurement import expectation, expectation_from_samples\n",
    "from qibochem.ansatz import he_circuit"
   ]
  },
  {
   "cell_type": "code",
   "outputs": [
    {
     "name": "stderr",
     "output_type": "stream",
     "text": [
      "[Qibo 0.2.9|INFO|2024-10-14 21:16:26]: Using numpy backend on /CPU:0\n"
     ]
    }
   ],
   "source": [
    "qibo.set_backend(\"numpy\")\n",
    "device = torch.device(\"cuda\" if torch.cuda.is_available() else \"cpu\")\n",
    "bohr_angs = 0.529177210903"
   ],
   "metadata": {
    "collapsed": false,
    "ExecuteTime": {
     "end_time": "2024-10-14T13:16:26.408553Z",
     "start_time": "2024-10-14T13:16:26.405295Z"
    }
   },
   "id": "7b1d1e2e2565fbfd",
   "execution_count": 8
  },
  {
   "cell_type": "code",
   "outputs": [],
   "source": [
    "def h2(x):\n",
    "    molecule = Molecule([('H', (0, 0, 0)), ('H', (0, 0, x))])\n",
    "    molecule.run_pyscf()\n",
    "    return molecule"
   ],
   "metadata": {
    "collapsed": false,
    "ExecuteTime": {
     "end_time": "2024-10-14T13:31:22.861482Z",
     "start_time": "2024-10-14T13:31:22.859335Z"
    }
   },
   "id": "9dc70050e41e1c2c",
   "execution_count": 62
  },
  {
   "cell_type": "code",
   "outputs": [
    {
     "name": "stdout",
     "output_type": "stream",
     "text": [
      "converged SCF energy = -1.11734903499028\n"
     ]
    }
   ],
   "source": [
    "molecule = h2(0.7)\n",
    "hamiltonian = molecule.hamiltonian()"
   ],
   "metadata": {
    "collapsed": false,
    "ExecuteTime": {
     "end_time": "2024-10-14T13:31:23.389168Z",
     "start_time": "2024-10-14T13:31:23.363568Z"
    }
   },
   "id": "922743146d8120db",
   "execution_count": 63
  },
  {
   "cell_type": "code",
   "outputs": [
    {
     "name": "stdout",
     "output_type": "stream",
     "text": [
      "q0: ─RY─RZ─o─────Z─\n",
      "q1: ─RY─RZ─Z─o───|─\n",
      "q2: ─RY─RZ───Z─o─|─\n",
      "q3: ─RY─RZ─────Z─o─\n"
     ]
    }
   ],
   "source": [
    "nlayers = 1\n",
    "nqubits = molecule.nso # Number of molecular spin-orbitals considered for the molecule\n",
    "ntheta = 2 * nqubits * nlayers\n",
    "circuit = he_circuit(nqubits, nlayers)\n",
    "print(circuit.draw())"
   ],
   "metadata": {
    "collapsed": false
   },
   "id": "3e26773cb41766b2",
   "execution_count": 5
  },
  {
   "cell_type": "code",
   "outputs": [
    {
     "data": {
      "text/plain": "(-1.1173490349878505,\n array([ 3.14159263e+00,  6.50430197e+00,  3.14159669e+00,  1.71830858e+00,\n         6.28318531e+00,  3.20931093e+00, -1.17805883e-10,  4.74157488e+00]))"
     },
     "execution_count": 94,
     "metadata": {},
     "output_type": "execute_result"
    }
   ],
   "source": [
    "vqe = models.VQE(circuit, hamiltonian)\n",
    "best, params, extra = vqe.minimize(np.random.uniform(0, 2 * np.pi, ntheta))\n",
    "best, params"
   ],
   "metadata": {
    "collapsed": false,
    "ExecuteTime": {
     "end_time": "2024-10-14T14:01:23.020845Z",
     "start_time": "2024-10-14T14:01:22.852643Z"
    }
   },
   "id": "537d32f6ee75fa62",
   "execution_count": 94
  },
  {
   "cell_type": "code",
   "outputs": [],
   "source": [
    "def cost(params, x):\n",
    "    molecule = h2(x)\n",
    "    hamiltonian = molecule.hamiltonian()\n",
    "\n",
    "    circuit.set_parameters(params)\n",
    "    return expectation_from_samples(circuit, hamiltonian, n_shots=8096)"
   ],
   "metadata": {
    "collapsed": false,
    "ExecuteTime": {
     "end_time": "2024-10-14T14:05:10.810383Z",
     "start_time": "2024-10-14T14:05:10.808002Z"
    }
   },
   "id": "d944ab6eac7f5f8",
   "execution_count": 101
  },
  {
   "cell_type": "code",
   "outputs": [],
   "source": [
    "theta = torch.randn(ntheta, dtype=torch.float32, requires_grad=True, device=device)\n",
    "x = torch.tensor([0.725], dtype=torch.float32, requires_grad=True, device=device)\n",
    "\n",
    "learning_rate_theta = 0.001\n",
    "learning_rate_x = 0.5\n",
    "\n",
    "optimizer_theta = torch.optim.SGD([theta], lr=learning_rate_theta)\n",
    "optimizer_x = torch.optim.SGD([x], lr=learning_rate_x)"
   ],
   "metadata": {
    "collapsed": false,
    "ExecuteTime": {
     "end_time": "2024-10-14T14:25:08.177234Z",
     "start_time": "2024-10-14T14:25:08.174463Z"
    }
   },
   "id": "19f19e4f3c2b486f",
   "execution_count": 143
  },
  {
   "cell_type": "code",
   "outputs": [],
   "source": [
    "def finite_diff(f, x, delta=0.01):\n",
    "    \"\"\"Compute the central-difference finite difference of a function\"\"\"\n",
    "    gradient = []\n",
    "\n",
    "    for i in range(len(x)):\n",
    "        shift = np.zeros_like(x)\n",
    "        shift[i] += 0.5 * delta\n",
    "        res = (f(x + shift) - f(x - shift)) * delta**-1\n",
    "        gradient.append(res)\n",
    "\n",
    "    return gradient\n",
    "\n",
    "\n",
    "def grad_x(params, x):\n",
    "    grad_h = finite_diff(lambda x: h2(x).hamiltonian(), x)\n",
    "    circuit.set_parameters(params)\n",
    "    grad = [expectation_from_samples(circuit, obs, n_shots=1024) for obs in grad_h]\n",
    "    return np.array(grad)"
   ],
   "metadata": {
    "collapsed": false,
    "ExecuteTime": {
     "end_time": "2024-10-14T14:25:08.328932Z",
     "start_time": "2024-10-14T14:25:08.325740Z"
    }
   },
   "id": "9631c8824e71e94",
   "execution_count": 144
  },
  {
   "cell_type": "code",
   "outputs": [
    {
     "name": "stdout",
     "output_type": "stream",
     "text": [
      "converged SCF energy = -1.11734326912258\n",
      "converged SCF energy = -1.11734326912258\n",
      "converged SCF energy = -1.11734326912258\n",
      "Step = 0,  E = -0.60618206 Ha,  bond length = 0.72500 A\n",
      "converged SCF energy = -1.11734326912258\n",
      "converged SCF energy = -1.11734326912258\n",
      "converged SCF energy = -1.11734326912258\n",
      "converged SCF energy = -1.11734326912258\n",
      "converged SCF energy = -1.11734326912258\n",
      "converged SCF energy = -1.11734326912258\n",
      "converged SCF energy = -1.11734326912258\n",
      "converged SCF energy = -1.11734326912258\n",
      "converged SCF energy = -1.11734326912258\n",
      "converged SCF energy = -1.11734326912258\n",
      "converged SCF energy = -1.11734326912258\n",
      "converged SCF energy = -1.11734326912258\n",
      "Step = 4,  E = -0.60408325 Ha,  bond length = 0.72500 A\n",
      "converged SCF energy = -1.11734326912258\n",
      "converged SCF energy = -1.11734326912258\n",
      "converged SCF energy = -1.11734326912258\n",
      "converged SCF energy = -1.11734326912258\n",
      "converged SCF energy = -1.11734326912258\n",
      "converged SCF energy = -1.11734326912258\n",
      "converged SCF energy = -1.11734326912258\n",
      "converged SCF energy = -1.11734326912258\n",
      "converged SCF energy = -1.11734326912258\n",
      "converged SCF energy = -1.11734326912258\n",
      "converged SCF energy = -1.11734326912258\n",
      "converged SCF energy = -1.11734326912258\n",
      "Step = 8,  E = -0.60363428 Ha,  bond length = 0.72500 A\n",
      "converged SCF energy = -1.11734326912258\n",
      "converged SCF energy = -1.11734326912258\n",
      "converged SCF energy = -1.11734326912258\n",
      "converged SCF energy = -1.11734326912258\n",
      "converged SCF energy = -1.11734326912258\n",
      "converged SCF energy = -1.11734326912258\n",
      "converged SCF energy = -1.11734326912258\n",
      "converged SCF energy = -1.11734326912258\n",
      "converged SCF energy = -1.11734326912258\n",
      "converged SCF energy = -1.11734326912258\n",
      "converged SCF energy = -1.11734326912258\n",
      "converged SCF energy = -1.11734326912258\n",
      "Step = 12,  E = -0.60250122 Ha,  bond length = 0.72500 A\n",
      "converged SCF energy = -1.11734326912258\n",
      "converged SCF energy = -1.11734326912258\n",
      "converged SCF energy = -1.11734326912258\n",
      "converged SCF energy = -1.11734326912258\n",
      "converged SCF energy = -1.11734326912258\n",
      "converged SCF energy = -1.11734326912258\n",
      "converged SCF energy = -1.11734326912258\n",
      "converged SCF energy = -1.11734326912258\n",
      "converged SCF energy = -1.11734326912258\n",
      "converged SCF energy = -1.11734326912258\n",
      "converged SCF energy = -1.11734326912258\n",
      "converged SCF energy = -1.11734326912258\n",
      "Step = 16,  E = -0.60270061 Ha,  bond length = 0.72500 A\n",
      "converged SCF energy = -1.11734326912258\n",
      "converged SCF energy = -1.11734326912258\n",
      "converged SCF energy = -1.11734326912258\n",
      "converged SCF energy = -1.11734326912258\n",
      "converged SCF energy = -1.11734326912258\n",
      "converged SCF energy = -1.11734326912258\n",
      "converged SCF energy = -1.11734326912258\n",
      "converged SCF energy = -1.11734326912258\n",
      "converged SCF energy = -1.11734326912258\n",
      "converged SCF energy = -1.11734326912258\n",
      "converged SCF energy = -1.11734326912258\n",
      "converged SCF energy = -1.11734326912258\n",
      "Step = 20,  E = -0.59882273 Ha,  bond length = 0.72500 A\n",
      "converged SCF energy = -1.11734326912258\n",
      "converged SCF energy = -1.11734326912258\n",
      "converged SCF energy = -1.11734326912258\n",
      "converged SCF energy = -1.11734326912258\n",
      "converged SCF energy = -1.11734326912258\n",
      "converged SCF energy = -1.11734326912258\n",
      "converged SCF energy = -1.11734326912258\n",
      "converged SCF energy = -1.11734326912258\n",
      "converged SCF energy = -1.11734326912258\n",
      "converged SCF energy = -1.11734326912258\n",
      "converged SCF energy = -1.11734326912258\n",
      "converged SCF energy = -1.11734326912258\n",
      "Step = 24,  E = -0.60830092 Ha,  bond length = 0.72500 A\n",
      "converged SCF energy = -1.11734326912258\n",
      "converged SCF energy = -1.11734326912258\n",
      "converged SCF energy = -1.11734326912258\n",
      "converged SCF energy = -1.11734326912258\n",
      "converged SCF energy = -1.11734326912258\n",
      "converged SCF energy = -1.11734326912258\n",
      "converged SCF energy = -1.11734326912258\n",
      "converged SCF energy = -1.11734326912258\n",
      "converged SCF energy = -1.11734326912258\n",
      "converged SCF energy = -1.11734326912258\n",
      "converged SCF energy = -1.11734326912258\n",
      "converged SCF energy = -1.11734326912258\n",
      "Step = 28,  E = -0.61019460 Ha,  bond length = 0.72500 A\n",
      "converged SCF energy = -1.11734326912258\n",
      "converged SCF energy = -1.11734326912258\n",
      "converged SCF energy = -1.11734326912258\n",
      "converged SCF energy = -1.11734326912258\n",
      "converged SCF energy = -1.11734326912258\n",
      "converged SCF energy = -1.11734326912258\n",
      "converged SCF energy = -1.11734326912258\n",
      "converged SCF energy = -1.11734326912258\n",
      "converged SCF energy = -1.11734326912258\n",
      "converged SCF energy = -1.11734326912258\n",
      "converged SCF energy = -1.11734326912258\n",
      "converged SCF energy = -1.11734326912258\n",
      "Step = 32,  E = -0.60358654 Ha,  bond length = 0.72500 A\n",
      "converged SCF energy = -1.11734326912258\n",
      "converged SCF energy = -1.11734326912258\n",
      "converged SCF energy = -1.11734326912258\n",
      "converged SCF energy = -1.11734326912258\n",
      "converged SCF energy = -1.11734326912258\n",
      "converged SCF energy = -1.11734326912258\n",
      "converged SCF energy = -1.11734326912258\n",
      "converged SCF energy = -1.11734326912258\n",
      "converged SCF energy = -1.11734326912258\n",
      "converged SCF energy = -1.11734326912258\n",
      "converged SCF energy = -1.11734326912258\n",
      "converged SCF energy = -1.11734326912258\n",
      "Step = 36,  E = -0.61690055 Ha,  bond length = 0.72500 A\n",
      "converged SCF energy = -1.11734326912258\n",
      "converged SCF energy = -1.11734326912258\n",
      "converged SCF energy = -1.11734326912258\n",
      "converged SCF energy = -1.11734326912258\n",
      "converged SCF energy = -1.11734326912258\n",
      "converged SCF energy = -1.11734326912258\n",
      "converged SCF energy = -1.11734326912258\n",
      "converged SCF energy = -1.11734326912258\n",
      "converged SCF energy = -1.11734326912258\n",
      "converged SCF energy = -1.11734326912258\n",
      "converged SCF energy = -1.11734326912258\n",
      "converged SCF energy = -1.11734326912258\n",
      "Step = 40,  E = -0.60591487 Ha,  bond length = 0.72500 A\n",
      "converged SCF energy = -1.11734326912258\n",
      "converged SCF energy = -1.11734326912258\n",
      "converged SCF energy = -1.11734326912258\n",
      "converged SCF energy = -1.11734326912258\n",
      "converged SCF energy = -1.11734326912258\n",
      "converged SCF energy = -1.11734326912258\n",
      "converged SCF energy = -1.11734326912258\n",
      "converged SCF energy = -1.11734326912258\n",
      "converged SCF energy = -1.11734326912258\n",
      "converged SCF energy = -1.11734326912258\n",
      "converged SCF energy = -1.11734326912258\n",
      "converged SCF energy = -1.11734326912258\n",
      "Step = 44,  E = -0.59656216 Ha,  bond length = 0.72500 A\n",
      "converged SCF energy = -1.11734326912258\n",
      "converged SCF energy = -1.11734326912258\n",
      "converged SCF energy = -1.11734326912258\n",
      "converged SCF energy = -1.11734326912258\n",
      "converged SCF energy = -1.11734326912258\n",
      "converged SCF energy = -1.11734326912258\n",
      "converged SCF energy = -1.11734326912258\n",
      "converged SCF energy = -1.11734326912258\n",
      "converged SCF energy = -1.11734326912258\n",
      "converged SCF energy = -1.11734326912258\n",
      "converged SCF energy = -1.11734326912258\n",
      "converged SCF energy = -1.11734326912258\n",
      "Step = 48,  E = -0.59855569 Ha,  bond length = 0.72500 A\n",
      "converged SCF energy = -1.11734326912258\n",
      "converged SCF energy = -1.11734326912258\n",
      "converged SCF energy = -1.11734326912258\n",
      "converged SCF energy = -1.11734326912258\n",
      "converged SCF energy = -1.11734326912258\n",
      "converged SCF energy = -1.11734326912258\n",
      "converged SCF energy = -1.11734326912258\n",
      "converged SCF energy = -1.11734326912258\n",
      "converged SCF energy = -1.11734326912258\n",
      "converged SCF energy = -1.11734326912258\n",
      "converged SCF energy = -1.11734326912258\n",
      "converged SCF energy = -1.11734326912258\n",
      "Step = 52,  E = -0.60667908 Ha,  bond length = 0.72500 A\n",
      "converged SCF energy = -1.11734326912258\n",
      "converged SCF energy = -1.11734326912258\n",
      "converged SCF energy = -1.11734326912258\n",
      "converged SCF energy = -1.11734326912258\n",
      "converged SCF energy = -1.11734326912258\n",
      "converged SCF energy = -1.11734326912258\n",
      "converged SCF energy = -1.11734326912258\n",
      "converged SCF energy = -1.11734326912258\n",
      "converged SCF energy = -1.11734326912258\n",
      "converged SCF energy = -1.11734326912258\n",
      "converged SCF energy = -1.11734326912258\n",
      "converged SCF energy = -1.11734326912258\n",
      "Step = 56,  E = -0.59819708 Ha,  bond length = 0.72500 A\n",
      "converged SCF energy = -1.11734326912258\n",
      "converged SCF energy = -1.11734326912258\n",
      "converged SCF energy = -1.11734326912258\n",
      "converged SCF energy = -1.11734326912258\n",
      "converged SCF energy = -1.11734326912258\n",
      "converged SCF energy = -1.11734326912258\n",
      "converged SCF energy = -1.11734326912258\n",
      "converged SCF energy = -1.11734326912258\n",
      "converged SCF energy = -1.11734326912258\n",
      "converged SCF energy = -1.11734326912258\n",
      "converged SCF energy = -1.11734326912258\n",
      "converged SCF energy = -1.11734326912258\n",
      "Step = 60,  E = -0.60371467 Ha,  bond length = 0.72500 A\n",
      "converged SCF energy = -1.11734326912258\n",
      "converged SCF energy = -1.11734326912258\n",
      "converged SCF energy = -1.11734326912258\n",
      "converged SCF energy = -1.11734326912258\n",
      "converged SCF energy = -1.11734326912258\n",
      "converged SCF energy = -1.11734326912258\n",
      "converged SCF energy = -1.11734326912258\n",
      "converged SCF energy = -1.11734326912258\n",
      "converged SCF energy = -1.11734326912258\n",
      "converged SCF energy = -1.11734326912258\n",
      "converged SCF energy = -1.11734326912258\n",
      "converged SCF energy = -1.11734326912258\n",
      "Step = 64,  E = -0.60214284 Ha,  bond length = 0.72500 A\n",
      "converged SCF energy = -1.11734326912258\n",
      "converged SCF energy = -1.11734326912258\n",
      "converged SCF energy = -1.11734326912258\n",
      "converged SCF energy = -1.11734326912258\n",
      "converged SCF energy = -1.11734326912258\n",
      "converged SCF energy = -1.11734326912258\n",
      "converged SCF energy = -1.11734326912258\n",
      "converged SCF energy = -1.11734326912258\n",
      "converged SCF energy = -1.11734326912258\n",
      "converged SCF energy = -1.11734326912258\n",
      "converged SCF energy = -1.11734326912258\n",
      "converged SCF energy = -1.11734326912258\n",
      "Step = 68,  E = -0.60314753 Ha,  bond length = 0.72500 A\n",
      "converged SCF energy = -1.11734326912258\n",
      "converged SCF energy = -1.11734326912258\n",
      "converged SCF energy = -1.11734326912258\n",
      "converged SCF energy = -1.11734326912258\n",
      "converged SCF energy = -1.11734326912258\n",
      "converged SCF energy = -1.11734326912258\n",
      "converged SCF energy = -1.11734326912258\n",
      "converged SCF energy = -1.11734326912258\n",
      "converged SCF energy = -1.11734326912258\n",
      "converged SCF energy = -1.11734326912258\n",
      "converged SCF energy = -1.11734326912258\n",
      "converged SCF energy = -1.11734326912258\n",
      "Step = 72,  E = -0.60465765 Ha,  bond length = 0.72500 A\n",
      "converged SCF energy = -1.11734326912258\n",
      "converged SCF energy = -1.11734326912258\n",
      "converged SCF energy = -1.11734326912258\n",
      "converged SCF energy = -1.11734326912258\n",
      "converged SCF energy = -1.11734326912258\n",
      "converged SCF energy = -1.11734326912258\n",
      "converged SCF energy = -1.11734326912258\n",
      "converged SCF energy = -1.11734326912258\n",
      "converged SCF energy = -1.11734326912258\n",
      "converged SCF energy = -1.11734326912258\n",
      "converged SCF energy = -1.11734326912258\n",
      "converged SCF energy = -1.11734326912258\n",
      "Step = 76,  E = -0.60514795 Ha,  bond length = 0.72500 A\n",
      "converged SCF energy = -1.11734326912258\n",
      "converged SCF energy = -1.11734326912258\n",
      "converged SCF energy = -1.11734326912258\n",
      "converged SCF energy = -1.11734326912258\n",
      "converged SCF energy = -1.11734326912258\n",
      "converged SCF energy = -1.11734326912258\n",
      "converged SCF energy = -1.11734326912258\n",
      "converged SCF energy = -1.11734326912258\n",
      "converged SCF energy = -1.11734326912258\n",
      "converged SCF energy = -1.11734326912258\n",
      "converged SCF energy = -1.11734326912258\n",
      "converged SCF energy = -1.11734326912258\n",
      "Step = 80,  E = -0.60561916 Ha,  bond length = 0.72500 A\n",
      "converged SCF energy = -1.11734326912258\n",
      "converged SCF energy = -1.11734326912258\n",
      "converged SCF energy = -1.11734326912258\n",
      "converged SCF energy = -1.11734326912258\n",
      "converged SCF energy = -1.11734326912258\n",
      "converged SCF energy = -1.11734326912258\n",
      "converged SCF energy = -1.11734326912258\n",
      "converged SCF energy = -1.11734326912258\n",
      "converged SCF energy = -1.11734326912258\n",
      "converged SCF energy = -1.11734326912258\n",
      "converged SCF energy = -1.11734326912258\n",
      "converged SCF energy = -1.11734326912258\n",
      "Step = 84,  E = -0.60053966 Ha,  bond length = 0.72500 A\n",
      "converged SCF energy = -1.11734326912258\n",
      "converged SCF energy = -1.11734326912258\n",
      "converged SCF energy = -1.11734326912258\n",
      "converged SCF energy = -1.11734326912258\n",
      "converged SCF energy = -1.11734326912258\n",
      "converged SCF energy = -1.11734326912258\n",
      "converged SCF energy = -1.11734326912258\n",
      "converged SCF energy = -1.11734326912258\n",
      "converged SCF energy = -1.11734326912258\n",
      "converged SCF energy = -1.11734326912258\n",
      "converged SCF energy = -1.11734326912258\n",
      "converged SCF energy = -1.11734326912258\n",
      "Step = 88,  E = -0.59835207 Ha,  bond length = 0.72500 A\n",
      "converged SCF energy = -1.11734326912258\n",
      "converged SCF energy = -1.11734326912258\n",
      "converged SCF energy = -1.11734326912258\n",
      "converged SCF energy = -1.11734326912258\n",
      "converged SCF energy = -1.11734326912258\n",
      "converged SCF energy = -1.11734326912258\n",
      "converged SCF energy = -1.11734326912258\n",
      "converged SCF energy = -1.11734326912258\n",
      "converged SCF energy = -1.11734326912258\n",
      "converged SCF energy = -1.11734326912258\n",
      "converged SCF energy = -1.11734326912258\n",
      "converged SCF energy = -1.11734326912258\n",
      "Step = 92,  E = -0.60628977 Ha,  bond length = 0.72500 A\n",
      "converged SCF energy = -1.11734326912258\n",
      "converged SCF energy = -1.11734326912258\n",
      "converged SCF energy = -1.11734326912258\n",
      "converged SCF energy = -1.11734326912258\n",
      "converged SCF energy = -1.11734326912258\n",
      "converged SCF energy = -1.11734326912258\n",
      "converged SCF energy = -1.11734326912258\n",
      "converged SCF energy = -1.11734326912258\n",
      "converged SCF energy = -1.11734326912258\n",
      "converged SCF energy = -1.11734326912258\n",
      "converged SCF energy = -1.11734326912258\n",
      "converged SCF energy = -1.11734326912258\n",
      "Step = 96,  E = -0.60247736 Ha,  bond length = 0.72500 A\n",
      "converged SCF energy = -1.11734326912258\n",
      "converged SCF energy = -1.11734326912258\n",
      "converged SCF energy = -1.11734326912258\n",
      "converged SCF energy = -1.11734326912258\n",
      "converged SCF energy = -1.11734326912258\n",
      "converged SCF energy = -1.11734326912258\n",
      "converged SCF energy = -1.11734326912258\n",
      "converged SCF energy = -1.11734326912258\n",
      "converged SCF energy = -1.11734326912258\n"
     ]
    }
   ],
   "source": [
    "energy = []\n",
    "\n",
    "# store the values of the bond length\n",
    "bond_length = []\n",
    "\n",
    "for n in range(100):\n",
    "    # -------------------------\n",
    "    # Optimize the circuit parameters (theta)\n",
    "    # -------------------------\n",
    "    optimizer_theta.zero_grad()\n",
    "    energy_theta = cost(theta.detach().numpy(), x.detach().numpy()[0])\n",
    "    energy_tensor = torch.tensor(energy_theta, requires_grad=True)\n",
    "    energy_tensor.backward()\n",
    "    optimizer_theta.step()\n",
    "\n",
    "    # -------------------------\n",
    "    # Optimize the nuclear coordinates (x)\n",
    "    # -------------------------\n",
    "    optimizer_x.zero_grad()\n",
    "    energy_x = cost(theta.detach().numpy(), x.detach().numpy()[0])\n",
    "    energy_tensor = torch.tensor(energy_x, requires_grad=True)\n",
    "    energy_tensor.backward()\n",
    "    optimizer_x.step()\n",
    "\n",
    "    # Record energy and bond length\n",
    "    with torch.no_grad():\n",
    "        current_energy = cost(theta.detach().numpy(), x.detach().numpy()[0])\n",
    "        energy.append(current_energy)\n",
    "        current_bond_length = x.item()\n",
    "        bond_length.append(current_bond_length)\n",
    "\n",
    "    # Logging every 4 steps\n",
    "    if n % 4 == 0:\n",
    "        print(f\"Step = {n},  E = {current_energy:.8f} Ha,  bond length = {current_bond_length:.5f} A\")\n"
   ],
   "metadata": {
    "collapsed": false,
    "ExecuteTime": {
     "end_time": "2024-10-14T14:25:15.477713Z",
     "start_time": "2024-10-14T14:25:08.480059Z"
    }
   },
   "id": "8e64f81caf11dfe4",
   "execution_count": 145
  },
  {
   "cell_type": "code",
   "outputs": [
    {
     "data": {
      "text/plain": "[-0.6061820633155466,\n -0.5962958030790737,\n -0.5964665056068887,\n -0.6016064822991345,\n -0.6040832514344299,\n -0.6080083614739347,\n -0.5992682155794824,\n -0.6065879012508939,\n -0.6036342806715533,\n -0.6008581979803498,\n -0.5989052984041017,\n -0.6037107145258342,\n -0.6025012197489741,\n -0.6043166203386421,\n -0.6087082223893998,\n -0.6047376353940945,\n -0.6027006051147257,\n -0.6086406895328667,\n -0.6064737771114184,\n -0.6026061269676661,\n -0.5988227253444531,\n -0.6062065900940339,\n -0.6038228425940226,\n -0.6055486881154306,\n -0.6083009156933092,\n -0.6064613692820886,\n -0.6016909801355008,\n -0.6013230305416466,\n -0.6101945991791777,\n -0.5961040554455432,\n -0.5955938972538968,\n -0.6045651969526169,\n -0.6035865424781304,\n -0.5999677584592262,\n -0.6074730788642904,\n -0.6011802579228336,\n -0.6169005487009245,\n -0.6088850863535424,\n -0.6047932681895345,\n -0.6018440439171628,\n -0.605914868860435,\n -0.6124641897581722,\n -0.5965235043784951,\n -0.6057578588151233,\n -0.5965621606200449,\n -0.6062515319763544,\n -0.596838473096194,\n -0.610972540242976,\n -0.5985556858094849,\n -0.6075905521191776,\n -0.60386172253144,\n -0.599199194107592,\n -0.6066790778012137,\n -0.5987976308612182,\n -0.599062903116901,\n -0.6009666158226992,\n -0.59819707678618,\n -0.5969102734911751,\n -0.6029659601152231,\n -0.6056306256337365,\n -0.6037146746275615,\n -0.6076241213325693,\n -0.6024188911348813,\n -0.6094880025230938,\n -0.6021428363940831,\n -0.6117703717469516,\n -0.6030799363077186,\n -0.6084547217149672,\n -0.6031475314921952,\n -0.5935329550006816,\n -0.6055980080395129,\n -0.593515527508093,\n -0.6046576537328145,\n -0.6077076240830828,\n -0.6085229119954494,\n -0.6032649068439566,\n -0.6051479506529993,\n -0.6024023698436658,\n -0.6041837057641208,\n -0.6015487980561891,\n -0.6056191574127334,\n -0.608549868273319,\n -0.6038212477384508,\n -0.5996085417933683,\n -0.6005396566699284,\n -0.6061892738044072,\n -0.6053580771364342,\n -0.6011055460986361,\n -0.5983520699956113,\n -0.6082848871899598,\n -0.6000935036403454,\n -0.6003422907670215,\n -0.6062897650931196,\n -0.6057732949514472,\n -0.6071189975794617,\n -0.6039467040402497,\n -0.6024773603055136,\n -0.6006497041398673,\n -0.6054333354967987,\n -0.6003521287034543]"
     },
     "execution_count": 146,
     "metadata": {},
     "output_type": "execute_result"
    }
   ],
   "source": [
    "energy"
   ],
   "metadata": {
    "collapsed": false,
    "ExecuteTime": {
     "end_time": "2024-10-14T14:25:15.481953Z",
     "start_time": "2024-10-14T14:25:15.478954Z"
    }
   },
   "id": "75726a886e59086c",
   "execution_count": 146
  },
  {
   "cell_type": "code",
   "outputs": [],
   "source": [],
   "metadata": {
    "collapsed": false
   },
   "id": "7ba32999e837a3c9"
  }
 ],
 "metadata": {
  "kernelspec": {
   "display_name": "Python 3",
   "language": "python",
   "name": "python3"
  },
  "language_info": {
   "codemirror_mode": {
    "name": "ipython",
    "version": 2
   },
   "file_extension": ".py",
   "mimetype": "text/x-python",
   "name": "python",
   "nbconvert_exporter": "python",
   "pygments_lexer": "ipython2",
   "version": "2.7.6"
  }
 },
 "nbformat": 4,
 "nbformat_minor": 5
}
