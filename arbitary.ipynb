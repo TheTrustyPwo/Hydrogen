{
 "cells": [
  {
   "cell_type": "code",
   "execution_count": 2,
   "id": "initial_id",
   "metadata": {
    "collapsed": true,
    "ExecuteTime": {
     "end_time": "2024-08-21T09:00:51.273746Z",
     "start_time": "2024-08-21T09:00:50.543949Z"
    }
   },
   "outputs": [],
   "source": [
    "import numpy as np\n",
    "import multiprocessing\n",
    "import matplotlib.pyplot as plt\n",
    "from tqdm import tqdm\n",
    "from qiskit_nature.units import DistanceUnit\n",
    "from qiskit_nature.second_q.drivers import PySCFDriver"
   ]
  },
  {
   "cell_type": "code",
   "outputs": [],
   "source": [
    "driver = PySCFDriver(\n",
    "    atom=\"H 0 0 0; H 0 0 0.725\",\n",
    "    basis=\"sto3g\",\n",
    "    charge=0,\n",
    "    spin=0,\n",
    "    unit=DistanceUnit.ANGSTROM,\n",
    ")\n",
    "\n",
    "es_problem = driver.run()"
   ],
   "metadata": {
    "collapsed": false,
    "ExecuteTime": {
     "end_time": "2024-08-21T08:46:13.576941Z",
     "start_time": "2024-08-21T08:46:13.481247Z"
    }
   },
   "id": "94fcee637926fc8f",
   "execution_count": 2
  },
  {
   "cell_type": "code",
   "outputs": [
    {
     "data": {
      "text/plain": "-1.117343269122583"
     },
     "execution_count": 3,
     "metadata": {},
     "output_type": "execute_result"
    }
   ],
   "source": [
    "es_problem.reference_energy"
   ],
   "metadata": {
    "collapsed": false,
    "ExecuteTime": {
     "end_time": "2024-08-21T08:46:19.436231Z",
     "start_time": "2024-08-21T08:46:19.432494Z"
    }
   },
   "id": "ce8fcb5714dc5513",
   "execution_count": 3
  },
  {
   "cell_type": "code",
   "outputs": [
    {
     "name": "stderr",
     "output_type": "stream",
     "text": [
      "Retrieving energies:   0%|          | 0/29 [00:00<?, ?it/s]\n"
     ]
    },
    {
     "ename": "QiskitNatureError",
     "evalue": "'Failed to convert atom string: ;C      0.0000     0.0000     0.0000;;C      1.4000     0.0000     0.0000;;C      2.1000     1.2000     0.0000;;C      1.4000     2.4000     0.0000;;C      0.0000     2.4000     0.0000;;C     -0.7000     1.2000     0.0000;;C     -1.7000    -0.2000     0.0000;;C      2.8000    -1.2000     0.0000;;Br    -2.2000     1.8000     0.0000;;Br     3.5000     3.0000     0.0000;;O     -2.8000    -1.6000     0.0000;;O      2.1000     4.2000     0.0000;;O      4.5000     0.0000     0.0000;;O     -1.0000    -2.8000     0.0000;;O     -3.2000    -0.6000     0.0000;;S      0.0000    -2.0000     0.0000;;H     -0.5000    -0.5000     0.0000;;H      2.0000    -0.5000     0.0000;;H      2.0000     3.0000     0.0000;;H      1.0000     3.0000     0.0000;;H     -0.5000     3.0000     0.0000;;H     -1.5000    -0.8000     0.0000;;H      3.0000    -1.8000     0.0000;;H      2.8000    -0.8000     0.0000;;H      3.0000    -1.8000     0.0000;;H     -1.8000     2.2000     0.0000;;H      3.7000     2.8000     0.0000;;H      3.0000    -1.8000     0.0000;;H      2.2000     4.7000     0.0000;;'",
     "output_type": "error",
     "traceback": [
      "\u001B[0;31m---------------------------------------------------------------------------\u001B[0m",
      "\u001B[0;31mIndexError\u001B[0m                                Traceback (most recent call last)",
      "\u001B[0;32m~/.local/lib/python3.10/site-packages/qiskit_nature/second_q/drivers/pyscfd/pyscfdriver.py\u001B[0m in \u001B[0;36m_check_molecule_format\u001B[0;34m(val)\u001B[0m\n\u001B[1;32m    450\u001B[0m                 \u001B[0mnewval\u001B[0m \u001B[0;34m=\u001B[0m \u001B[0;34m[\u001B[0m\u001B[0;34m]\u001B[0m\u001B[0;34m\u001B[0m\u001B[0;34m\u001B[0m\u001B[0m\n\u001B[0;32m--> 451\u001B[0;31m                 \u001B[0;32mfor\u001B[0m \u001B[0mentry\u001B[0m \u001B[0;32min\u001B[0m \u001B[0mgto\u001B[0m\u001B[0;34m.\u001B[0m\u001B[0mmole\u001B[0m\u001B[0;34m.\u001B[0m\u001B[0mfrom_zmatrix\u001B[0m\u001B[0;34m(\u001B[0m\u001B[0mval\u001B[0m\u001B[0;34m)\u001B[0m\u001B[0;34m:\u001B[0m\u001B[0;34m\u001B[0m\u001B[0;34m\u001B[0m\u001B[0m\n\u001B[0m\u001B[1;32m    452\u001B[0m                     \u001B[0;32mif\u001B[0m \u001B[0mentry\u001B[0m\u001B[0;34m[\u001B[0m\u001B[0;36m0\u001B[0m\u001B[0;34m]\u001B[0m\u001B[0;34m.\u001B[0m\u001B[0mupper\u001B[0m\u001B[0;34m(\u001B[0m\u001B[0;34m)\u001B[0m \u001B[0;34m!=\u001B[0m \u001B[0;34m\"X\"\u001B[0m\u001B[0;34m:\u001B[0m\u001B[0;34m\u001B[0m\u001B[0;34m\u001B[0m\u001B[0m\n",
      "\u001B[0;32m~/.local/lib/python3.10/site-packages/pyscf/gto/mole.py\u001B[0m in \u001B[0;36mfrom_zmatrix\u001B[0;34m(atomstr)\u001B[0m\n\u001B[1;32m   3919\u001B[0m                 \u001B[0manga\u001B[0m  \u001B[0;34m=\u001B[0m \u001B[0mint\u001B[0m\u001B[0;34m(\u001B[0m\u001B[0mvals\u001B[0m\u001B[0;34m[\u001B[0m\u001B[0;36m2\u001B[0m\u001B[0;34m]\u001B[0m\u001B[0;34m)\u001B[0m \u001B[0;34m-\u001B[0m \u001B[0;36m1\u001B[0m\u001B[0;34m\u001B[0m\u001B[0;34m\u001B[0m\u001B[0m\n\u001B[0;32m-> 3920\u001B[0;31m                 \u001B[0mang\u001B[0m   \u001B[0;34m=\u001B[0m \u001B[0mfloat\u001B[0m\u001B[0;34m(\u001B[0m\u001B[0mvals\u001B[0m\u001B[0;34m[\u001B[0m\u001B[0;36m3\u001B[0m\u001B[0;34m]\u001B[0m\u001B[0;34m)\u001B[0m\u001B[0;34m/\u001B[0m\u001B[0;36m180\u001B[0m\u001B[0;34m*\u001B[0m\u001B[0mnumpy\u001B[0m\u001B[0;34m.\u001B[0m\u001B[0mpi\u001B[0m\u001B[0;34m\u001B[0m\u001B[0;34m\u001B[0m\u001B[0m\n\u001B[0m\u001B[1;32m   3921\u001B[0m                 \u001B[0;32massert\u001B[0m \u001B[0;34m(\u001B[0m\u001B[0mang\u001B[0m \u001B[0;34m>=\u001B[0m \u001B[0;36m0\u001B[0m \u001B[0;32mand\u001B[0m \u001B[0mang\u001B[0m \u001B[0;34m<=\u001B[0m \u001B[0mnumpy\u001B[0m\u001B[0;34m.\u001B[0m\u001B[0mpi\u001B[0m\u001B[0;34m)\u001B[0m\u001B[0;34m\u001B[0m\u001B[0;34m\u001B[0m\u001B[0m\n",
      "\u001B[0;31mIndexError\u001B[0m: tuple index out of range",
      "\nThe above exception was the direct cause of the following exception:\n",
      "\u001B[0;31mQiskitNatureError\u001B[0m                         Traceback (most recent call last)",
      "\u001B[0;32m/tmp/ipykernel_42315/1556625690.py\u001B[0m in \u001B[0;36m<module>\u001B[0;34m\u001B[0m\n\u001B[1;32m     40\u001B[0m         \u001B[0munit\u001B[0m\u001B[0;34m=\u001B[0m\u001B[0mDistanceUnit\u001B[0m\u001B[0;34m.\u001B[0m\u001B[0mANGSTROM\u001B[0m\u001B[0;34m,\u001B[0m\u001B[0;34m\u001B[0m\u001B[0;34m\u001B[0m\u001B[0m\n\u001B[1;32m     41\u001B[0m     )\n\u001B[0;32m---> 42\u001B[0;31m     \u001B[0mes_problem\u001B[0m \u001B[0;34m=\u001B[0m \u001B[0mdriver\u001B[0m\u001B[0;34m.\u001B[0m\u001B[0mrun\u001B[0m\u001B[0;34m(\u001B[0m\u001B[0;34m)\u001B[0m\u001B[0;34m\u001B[0m\u001B[0;34m\u001B[0m\u001B[0m\n\u001B[0m\u001B[1;32m     43\u001B[0m     \u001B[0menergies\u001B[0m\u001B[0;34m.\u001B[0m\u001B[0mappend\u001B[0m\u001B[0;34m(\u001B[0m\u001B[0mes_problem\u001B[0m\u001B[0;34m.\u001B[0m\u001B[0mreference_energy\u001B[0m\u001B[0;34m)\u001B[0m\u001B[0;34m\u001B[0m\u001B[0;34m\u001B[0m\u001B[0m\n",
      "\u001B[0;32m~/.local/lib/python3.10/site-packages/qiskit_nature/second_q/drivers/pyscfd/pyscfdriver.py\u001B[0m in \u001B[0;36mrun\u001B[0;34m(self)\u001B[0m\n\u001B[1;32m    368\u001B[0m             \u001B[0mQiskitNatureError\u001B[0m\u001B[0;34m:\u001B[0m \u001B[0;32mif\u001B[0m \u001B[0man\u001B[0m \u001B[0merror\u001B[0m \u001B[0mduring\u001B[0m \u001B[0mthe\u001B[0m \u001B[0mPySCF\u001B[0m \u001B[0msetup\u001B[0m \u001B[0;32mor\u001B[0m \u001B[0mcalculation\u001B[0m \u001B[0moccurred\u001B[0m\u001B[0;34m.\u001B[0m\u001B[0;34m\u001B[0m\u001B[0;34m\u001B[0m\u001B[0m\n\u001B[1;32m    369\u001B[0m         \"\"\"\n\u001B[0;32m--> 370\u001B[0;31m         \u001B[0mself\u001B[0m\u001B[0;34m.\u001B[0m\u001B[0mrun_pyscf\u001B[0m\u001B[0;34m(\u001B[0m\u001B[0;34m)\u001B[0m\u001B[0;34m\u001B[0m\u001B[0;34m\u001B[0m\u001B[0m\n\u001B[0m\u001B[1;32m    371\u001B[0m         \u001B[0;32mreturn\u001B[0m \u001B[0mself\u001B[0m\u001B[0;34m.\u001B[0m\u001B[0mto_problem\u001B[0m\u001B[0;34m(\u001B[0m\u001B[0;34m)\u001B[0m\u001B[0;34m\u001B[0m\u001B[0;34m\u001B[0m\u001B[0m\n\u001B[1;32m    372\u001B[0m \u001B[0;34m\u001B[0m\u001B[0m\n",
      "\u001B[0;32m~/.local/lib/python3.10/site-packages/qiskit_nature/second_q/drivers/pyscfd/pyscfdriver.py\u001B[0m in \u001B[0;36mrun_pyscf\u001B[0;34m(self)\u001B[0m\n\u001B[1;32m    467\u001B[0m             \u001B[0mQiskitNatureError\u001B[0m\u001B[0;34m:\u001B[0m \u001B[0mIf\u001B[0m \u001B[0man\u001B[0m \u001B[0minvalid\u001B[0m \u001B[0mHF\u001B[0m \u001B[0mmethod\u001B[0m \u001B[0mtype\u001B[0m \u001B[0mwas\u001B[0m \u001B[0msupplied\u001B[0m\u001B[0;34m.\u001B[0m\u001B[0;34m\u001B[0m\u001B[0;34m\u001B[0m\u001B[0m\n\u001B[1;32m    468\u001B[0m         \"\"\"\n\u001B[0;32m--> 469\u001B[0;31m         \u001B[0mself\u001B[0m\u001B[0;34m.\u001B[0m\u001B[0m_build_molecule\u001B[0m\u001B[0;34m(\u001B[0m\u001B[0;34m)\u001B[0m\u001B[0;34m\u001B[0m\u001B[0;34m\u001B[0m\u001B[0m\n\u001B[0m\u001B[1;32m    470\u001B[0m \u001B[0;34m\u001B[0m\u001B[0m\n\u001B[1;32m    471\u001B[0m         \u001B[0;31m# pylint: disable=import-error\u001B[0m\u001B[0;34m\u001B[0m\u001B[0;34m\u001B[0m\u001B[0m\n",
      "\u001B[0;32m~/.local/lib/python3.10/site-packages/qiskit_nature/second_q/drivers/pyscfd/pyscfdriver.py\u001B[0m in \u001B[0;36m_build_molecule\u001B[0;34m(self)\u001B[0m\n\u001B[1;32m    386\u001B[0m         \u001B[0;32mfrom\u001B[0m \u001B[0mpyscf\u001B[0m\u001B[0;34m.\u001B[0m\u001B[0mlib\u001B[0m \u001B[0;32mimport\u001B[0m \u001B[0mparam\u001B[0m\u001B[0;34m\u001B[0m\u001B[0;34m\u001B[0m\u001B[0m\n\u001B[1;32m    387\u001B[0m \u001B[0;34m\u001B[0m\u001B[0m\n\u001B[0;32m--> 388\u001B[0;31m         \u001B[0matom\u001B[0m \u001B[0;34m=\u001B[0m \u001B[0mself\u001B[0m\u001B[0;34m.\u001B[0m\u001B[0m_check_molecule_format\u001B[0m\u001B[0;34m(\u001B[0m\u001B[0mself\u001B[0m\u001B[0;34m.\u001B[0m\u001B[0matom\u001B[0m\u001B[0;34m)\u001B[0m\u001B[0;34m\u001B[0m\u001B[0;34m\u001B[0m\u001B[0m\n\u001B[0m\u001B[1;32m    389\u001B[0m         \u001B[0;32mif\u001B[0m \u001B[0mself\u001B[0m\u001B[0;34m.\u001B[0m\u001B[0m_max_memory\u001B[0m \u001B[0;32mis\u001B[0m \u001B[0;32mNone\u001B[0m\u001B[0;34m:\u001B[0m\u001B[0;34m\u001B[0m\u001B[0;34m\u001B[0m\u001B[0m\n\u001B[1;32m    390\u001B[0m             \u001B[0mself\u001B[0m\u001B[0;34m.\u001B[0m\u001B[0m_max_memory\u001B[0m \u001B[0;34m=\u001B[0m \u001B[0mparam\u001B[0m\u001B[0;34m.\u001B[0m\u001B[0mMAX_MEMORY\u001B[0m\u001B[0;34m\u001B[0m\u001B[0;34m\u001B[0m\u001B[0m\n",
      "\u001B[0;32m~/.local/lib/python3.10/site-packages/qiskit_nature/second_q/drivers/pyscfd/pyscfdriver.py\u001B[0m in \u001B[0;36m_check_molecule_format\u001B[0;34m(val)\u001B[0m\n\u001B[1;32m    454\u001B[0m                 \u001B[0;32mreturn\u001B[0m \u001B[0mnewval\u001B[0m\u001B[0;34m\u001B[0m\u001B[0;34m\u001B[0m\u001B[0m\n\u001B[1;32m    455\u001B[0m             \u001B[0;32mexcept\u001B[0m \u001B[0mException\u001B[0m \u001B[0;32mas\u001B[0m \u001B[0mexc\u001B[0m\u001B[0;34m:\u001B[0m\u001B[0;34m\u001B[0m\u001B[0;34m\u001B[0m\u001B[0m\n\u001B[0;32m--> 456\u001B[0;31m                 \u001B[0;32mraise\u001B[0m \u001B[0mQiskitNatureError\u001B[0m\u001B[0;34m(\u001B[0m\u001B[0;34m\"Failed to convert atom string: \"\u001B[0m \u001B[0;34m+\u001B[0m \u001B[0mval\u001B[0m\u001B[0;34m)\u001B[0m \u001B[0;32mfrom\u001B[0m \u001B[0mexc\u001B[0m\u001B[0;34m\u001B[0m\u001B[0;34m\u001B[0m\u001B[0m\n\u001B[0m\u001B[1;32m    457\u001B[0m \u001B[0;34m\u001B[0m\u001B[0m\n\u001B[1;32m    458\u001B[0m         \u001B[0;32mreturn\u001B[0m \u001B[0mval\u001B[0m\u001B[0;34m\u001B[0m\u001B[0;34m\u001B[0m\u001B[0m\n",
      "\u001B[0;31mQiskitNatureError\u001B[0m: 'Failed to convert atom string: ;C      0.0000     0.0000     0.0000;;C      1.4000     0.0000     0.0000;;C      2.1000     1.2000     0.0000;;C      1.4000     2.4000     0.0000;;C      0.0000     2.4000     0.0000;;C     -0.7000     1.2000     0.0000;;C     -1.7000    -0.2000     0.0000;;C      2.8000    -1.2000     0.0000;;Br    -2.2000     1.8000     0.0000;;Br     3.5000     3.0000     0.0000;;O     -2.8000    -1.6000     0.0000;;O      2.1000     4.2000     0.0000;;O      4.5000     0.0000     0.0000;;O     -1.0000    -2.8000     0.0000;;O     -3.2000    -0.6000     0.0000;;S      0.0000    -2.0000     0.0000;;H     -0.5000    -0.5000     0.0000;;H      2.0000    -0.5000     0.0000;;H      2.0000     3.0000     0.0000;;H      1.0000     3.0000     0.0000;;H     -0.5000     3.0000     0.0000;;H     -1.5000    -0.8000     0.0000;;H      3.0000    -1.8000     0.0000;;H      2.8000    -0.8000     0.0000;;H      3.0000    -1.8000     0.0000;;H     -1.8000     2.2000     0.0000;;H      3.7000     2.8000     0.0000;;H      3.0000    -1.8000     0.0000;;H      2.2000     4.7000     0.0000;;'"
     ]
    }
   ],
   "source": [
    "distances = np.arange(0.8, 2.21, 0.05)\n",
    "energies = []\n",
    "\n",
    "for distance in tqdm(distances, desc=\"Retrieving energies\"):\n",
    "    driver = PySCFDriver(\n",
    "        atom=f\"Rb 0 0 0; I 0 0 {distance}\",\n",
    "        basis=\"sto3g\",\n",
    "        charge=0,\n",
    "        spin=0,\n",
    "        unit=DistanceUnit.ANGSTROM,\n",
    "    )\n",
    "    es_problem = driver.run()\n",
    "    energies.append(es_problem.reference_energy)"
   ],
   "metadata": {
    "collapsed": false,
    "ExecuteTime": {
     "end_time": "2024-08-21T09:14:19.042889Z",
     "start_time": "2024-08-21T09:14:19.031908Z"
    }
   },
   "id": "d1d5c7a2cf86dd31",
   "execution_count": 27
  },
  {
   "cell_type": "code",
   "outputs": [
    {
     "name": "stderr",
     "output_type": "stream",
     "text": [
      "Retrieving energies: 100%|██████████| 105/105 [00:35<00:00,  2.95it/s]\n"
     ]
    }
   ],
   "source": [
    "distances = np.arange(0.5, 1.55, 0.01)\n",
    "energies = []\n",
    "\n",
    "for distance in tqdm(distances, desc=\"Retrieving energies\"):\n",
    "    # Define the geometry of H2O molecule in 2D\n",
    "    oxygen_hydrogen_bond_length = distance\n",
    "    bond_angle = 104.5 \n",
    "    bond_angle_rad = np.radians(bond_angle)\n",
    "\n",
    "    h1_x = oxygen_hydrogen_bond_length * np.cos(bond_angle_rad / 2)\n",
    "    h1_y = oxygen_hydrogen_bond_length * np.sin(bond_angle_rad / 2)\n",
    "    h2_x = oxygen_hydrogen_bond_length * np.cos(-bond_angle_rad / 2)\n",
    "    h2_y = oxygen_hydrogen_bond_length * np.sin(-bond_angle_rad / 2)\n",
    "\n",
    "    atom = f\"O 0 0 0; H {h1_x} {h1_y} 0; H {h2_x} {h2_y} 0\"\n",
    "    driver = PySCFDriver(\n",
    "        atom=atom,\n",
    "        basis=\"sto3g\",\n",
    "        charge=0,\n",
    "        spin=0,\n",
    "        unit=DistanceUnit.ANGSTROM,\n",
    "    )\n",
    "    \n",
    "    es_problem = driver.run()\n",
    "    energies.append(es_problem.reference_energy)"
   ],
   "metadata": {
    "collapsed": false,
    "ExecuteTime": {
     "end_time": "2024-08-21T09:02:43.016416Z",
     "start_time": "2024-08-21T09:02:07.458168Z"
    }
   },
   "id": "352aa351549e1e56",
   "execution_count": 5
  },
  {
   "cell_type": "code",
   "outputs": [],
   "source": [
    "import pandas as pd\n",
    "df = pd.DataFrame({\"distance\": distances, \"reference\": energies})\n",
    "df[\"distance\"] = df[\"distance\"].apply(lambda x: round(x * 100) / 100)\n",
    "df.to_csv(\"reference_values/O2.csv\", index=False)"
   ],
   "metadata": {
    "collapsed": false,
    "ExecuteTime": {
     "end_time": "2024-08-21T09:06:33.275584Z",
     "start_time": "2024-08-21T09:06:33.271771Z"
    }
   },
   "id": "5b53b39192b87e9b",
   "execution_count": 11
  },
  {
   "cell_type": "code",
   "outputs": [
    {
     "data": {
      "text/plain": "<Figure size 1080x720 with 1 Axes>",
      "image/png": "[encoded data removed]"
     },
     "metadata": {
      "needs_background": "light"
     },
     "output_type": "display_data"
    },
    {
     "name": "stdout",
     "output_type": "stream",
     "text": [
      "The minimum energy is -9758.122522 Hartree at a distance of 2.200000 Angstrom\n"
     ]
    }
   ],
   "source": [
    "energies = np.array(energies)\n",
    "min_energy = energies.min()\n",
    "min_energy_distance = distances[energies.argmin()]\n",
    "\n",
    "plt.figure(figsize=(15, 10))\n",
    "plt.plot(distances, energies, 'o', label='Original VQE Energies', color='red')\n",
    "\n",
    "plt.axhline(min_energy, color='green', linestyle='--', label=f'Minimum Energy at {min_energy:.6f} Hartree')\n",
    "plt.scatter(min_energy_distance, min_energy, color='green')\n",
    "plt.text(distances[-1], min_energy, f'{min_energy_distance:.6f} Angstrom, {min_energy:.6f} Hartree', color='green', fontsize=14, ha='right', va='bottom')\n",
    "\n",
    "\n",
    "plt.xlabel('Distance (Angstrom)')\n",
    "plt.ylabel('Energy (Hartree)')\n",
    "plt.title('Ground Energy against Atomic Distance')\n",
    "plt.legend()\n",
    "plt.grid(True)\n",
    "plt.show()\n",
    "\n",
    "print(f\"The minimum energy is {min_energy:.6f} Hartree at a distance of {min_energy_distance:.6f} Angstrom\")"
   ],
   "metadata": {
    "collapsed": false,
    "ExecuteTime": {
     "end_time": "2024-08-21T09:12:05.928528Z",
     "start_time": "2024-08-21T09:12:05.840119Z"
    }
   },
   "id": "dfe40d9536d2afe2",
   "execution_count": 25
  },
  {
   "cell_type": "code",
   "outputs": [],
   "source": [],
   "metadata": {
    "collapsed": false
   },
   "id": "9a2c7c1b1e2a652"
  }
 ],
 "metadata": {
  "kernelspec": {
   "display_name": "Python 3",
   "language": "python",
   "name": "python3"
  },
  "language_info": {
   "codemirror_mode": {
    "name": "ipython",
    "version": 2
   },
   "file_extension": ".py",
   "mimetype": "text/x-python",
   "name": "python",
   "nbconvert_exporter": "python",
   "pygments_lexer": "ipython2",
   "version": "2.7.6"
  }
 },
 "nbformat": 4,
 "nbformat_minor": 5
}
