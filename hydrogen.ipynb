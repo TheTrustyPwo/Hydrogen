{
 "cells": [
  {
   "cell_type": "code",
   "execution_count": 1,
   "id": "initial_id",
   "metadata": {
    "collapsed": true,
    "ExecuteTime": {
     "end_time": "2024-06-21T02:46:21.075616Z",
     "start_time": "2024-06-21T02:46:19.931417Z"
    }
   },
   "outputs": [],
   "source": [
    "import numpy as np\n",
    "import matplotlib.pyplot as plt\n",
    "from tqdm import tqdm\n",
    "from qiskit_nature.units import DistanceUnit\n",
    "from qiskit_nature.second_q.drivers import PySCFDriver\n",
    "from qiskit_nature.second_q.mappers import JordanWignerMapper\n",
    "from qiskit_algorithms import VQE\n",
    "from qiskit_algorithms.optimizers import L_BFGS_B\n",
    "from qiskit.primitives import Estimator\n",
    "from qiskit_algorithms.utils import algorithm_globals\n",
    "from qiskit_aer.primitives import Estimator as AerEstimator\n",
    "from qiskit_nature.second_q.circuit.library import HartreeFock, UCCSD\n",
    "from qiskit_nature.second_q.algorithms import GroundStateEigensolver\n",
    "from qiskit import QuantumCircuit"
   ]
  },
  {
   "cell_type": "code",
   "outputs": [],
   "source": [
    "driver = PySCFDriver(\n",
    "    atom=\"H 0 0 0; H 0 0 0.725\",\n",
    "    basis=\"sto3g\",\n",
    "    charge=0,\n",
    "    spin=0,\n",
    "    unit=DistanceUnit.ANGSTROM,\n",
    ")\n",
    "\n",
    "es_problem = driver.run()"
   ],
   "metadata": {
    "collapsed": false,
    "ExecuteTime": {
     "end_time": "2024-06-21T02:46:21.162877Z",
     "start_time": "2024-06-21T02:46:21.076798Z"
    }
   },
   "id": "4ce9c90525e1b191",
   "execution_count": 2
  },
  {
   "cell_type": "code",
   "outputs": [],
   "source": [
    "mapper = JordanWignerMapper()"
   ],
   "metadata": {
    "collapsed": false,
    "ExecuteTime": {
     "end_time": "2024-06-21T02:46:21.165631Z",
     "start_time": "2024-06-21T02:46:21.163506Z"
    }
   },
   "id": "853bb8b1de2512e1",
   "execution_count": 3
  },
  {
   "cell_type": "code",
   "outputs": [
    {
     "name": "stdout",
     "output_type": "stream",
     "text": [
      "Hamiltonian of Molecule:\n",
      "-0.67815051 * IIII\n",
      "+0.04035523 * IIIZ\n",
      "+0.03892110 * IIZI\n",
      "+0.03307331 * IIZZ\n",
      "+0.04035523 * IZII\n",
      "+0.11320163 * IZIZ\n",
      "+0.11336252 * IZZI\n",
      "+0.08028921 * XXXX\n",
      "+0.08028921 * XXYY\n",
      "+0.08028921 * YYXX\n",
      "+0.08028921 * YYYY\n",
      "+0.03892110 * ZIII\n",
      "+0.11336252 * ZIIZ\n",
      "+0.11352456 * ZIZI\n",
      "+0.03307331 * ZZII\n"
     ]
    }
   ],
   "source": [
    "print(\"Hamiltonian of Molecule:\")\n",
    "hamiltonian = es_problem.hamiltonian.second_q_op()\n",
    "qubit_op = mapper.map(hamiltonian)\n",
    "aux_op = mapper.map(es_problem.second_q_ops()[1])\n",
    "for pauli, coeff in sorted(qubit_op.label_iter()):\n",
    "    print(f\"{coeff.real:+.8f} * {pauli}\")"
   ],
   "metadata": {
    "collapsed": false,
    "ExecuteTime": {
     "end_time": "2024-06-21T09:21:02.454945Z",
     "start_time": "2024-06-21T09:21:02.423327Z"
    }
   },
   "id": "7e3da0e5ef00e218",
   "execution_count": 119
  },
  {
   "cell_type": "code",
   "outputs": [],
   "source": [
    "import numpy as np\n",
    "from qiskit import QuantumCircuit, transpile\n",
    "from qiskit.quantum_info import Kraus, SuperOp\n",
    "from qiskit_aer import AerSimulator\n",
    "from qiskit.visualization import plot_histogram\n",
    "\n",
    "# Import from Qiskit Aer noise module\n",
    "from qiskit_aer.noise import (NoiseModel, QuantumError, ReadoutError,\n",
    "    pauli_error, depolarizing_error, thermal_relaxation_error)"
   ],
   "metadata": {
    "collapsed": false,
    "ExecuteTime": {
     "end_time": "2024-06-21T07:32:05.383753Z",
     "start_time": "2024-06-21T07:32:05.381388Z"
    }
   },
   "id": "29e196408eab9b4",
   "execution_count": 60
  },
  {
   "cell_type": "code",
   "outputs": [
    {
     "name": "stdout",
     "output_type": "stream",
     "text": [
      "[399791.13642129 514556.77756607 472788.85761026 486536.99511965] [473001.9874462  773552.60979178 733757.01839065 773383.38325404]\n",
      "[473001.9874462  773552.60979178 733757.01839065 773383.38325404]\n",
      "NoiseModel:\n",
      "  Basis gates: ['cx', 'id', 'rz', 'sx', 'u2', 'u3']\n",
      "  Instructions with noise: ['cx', 'u3', 'measure', 'reset', 'u2']\n",
      "  Qubits with noise: [0, 1, 2, 3]\n",
      "  Specific qubit errors: [('reset', (0,)), ('reset', (1,)), ('reset', (2,)), ('reset', (3,)), ('measure', (0,)), ('measure', (1,)), ('measure', (2,)), ('measure', (3,)), ('u2', (0,)), ('u2', (1,)), ('u2', (2,)), ('u2', (3,)), ('u3', (0,)), ('u3', (1,)), ('u3', (2,)), ('u3', (3,)), ('cx', (0, 0)), ('cx', (0, 1)), ('cx', (0, 2)), ('cx', (0, 3)), ('cx', (1, 0)), ('cx', (1, 1)), ('cx', (1, 2)), ('cx', (1, 3)), ('cx', (2, 0)), ('cx', (2, 1)), ('cx', (2, 2)), ('cx', (2, 3)), ('cx', (3, 0)), ('cx', (3, 1)), ('cx', (3, 2)), ('cx', (3, 3))]\n"
     ]
    }
   ],
   "source": [
    "# T1 and T2 values for qubits 0-3\n",
    "T1s = np.random.normal(50e4, 10e4, 4) # Sampled from normal distribution mean 50 microsec\n",
    "T2s = np.random.normal(70e4, 10e4, 4)  # Sampled from normal distribution mean 50 microsec\n",
    "\n",
    "print(T1s, T2s)\n",
    "\n",
    "# Truncate random T2s <= T1s\n",
    "T2s = np.array([min(T2s[j], 2 * T1s[j]) for j in range(4)])\n",
    "\n",
    "print(T2s)\n",
    "\n",
    "# Instruction times (in nanoseconds)\n",
    "time_u1 = 0   # virtual gate\n",
    "time_u2 = 50  # (single X90 pulse)\n",
    "time_u3 = 100 # (two X90 pulses)\n",
    "time_cx = 300\n",
    "time_reset = 1000  # 1 microsecond\n",
    "time_measure = 1000 # 1 microsecond\n",
    "\n",
    "# QuantumError objects\n",
    "errors_reset = [thermal_relaxation_error(t1, t2, time_reset)\n",
    "                for t1, t2 in zip(T1s, T2s)]\n",
    "errors_measure = [thermal_relaxation_error(t1, t2, time_measure)\n",
    "                  for t1, t2 in zip(T1s, T2s)]\n",
    "errors_u1  = [thermal_relaxation_error(t1, t2, time_u1)\n",
    "              for t1, t2 in zip(T1s, T2s)]\n",
    "errors_u2  = [thermal_relaxation_error(t1, t2, time_u2)\n",
    "              for t1, t2 in zip(T1s, T2s)]\n",
    "errors_u3  = [thermal_relaxation_error(t1, t2, time_u3)\n",
    "              for t1, t2 in zip(T1s, T2s)]\n",
    "errors_cx = [[thermal_relaxation_error(t1a, t2a, time_cx).expand(\n",
    "             thermal_relaxation_error(t1b, t2b, time_cx))\n",
    "              for t1a, t2a in zip(T1s, T2s)]\n",
    "               for t1b, t2b in zip(T1s, T2s)]\n",
    "\n",
    "# Add errors to noise model\n",
    "noise_thermal = NoiseModel()\n",
    "for j in range(4):\n",
    "    noise_thermal.add_quantum_error(errors_reset[j], \"reset\", [j])\n",
    "    noise_thermal.add_quantum_error(errors_measure[j], \"measure\", [j])\n",
    "    noise_thermal.add_quantum_error(errors_u1[j], \"u1\", [j])\n",
    "    noise_thermal.add_quantum_error(errors_u2[j], \"u2\", [j])\n",
    "    noise_thermal.add_quantum_error(errors_u3[j], \"u3\", [j])\n",
    "    for k in range(4):\n",
    "        noise_thermal.add_quantum_error(errors_cx[j][k], \"cx\", [j, k])\n",
    "\n",
    "print(noise_thermal)"
   ],
   "metadata": {
    "collapsed": false,
    "ExecuteTime": {
     "end_time": "2024-06-21T07:38:13.029322Z",
     "start_time": "2024-06-21T07:38:12.999972Z"
    }
   },
   "id": "5214c1864b0291d",
   "execution_count": 104
  },
  {
   "cell_type": "code",
   "outputs": [],
   "source": [
    "seed = 69\n",
    "\n",
    "noisy_estimator = AerEstimator(\n",
    "    backend_options={\n",
    "        \"method\": \"density_matrix\",\n",
    "        \"noise_model\": noise_thermal,\n",
    "    },\n",
    "    run_options={\"seed\": seed, \"shots\": 1024},\n",
    "    transpile_options={\"seed_transpiler\": seed},\n",
    ")\n",
    "\n",
    "noiseless_estimator = AerEstimator(\n",
    "    run_options={\"seed\": seed, \"shots\": 1024},\n",
    "    transpile_options={\"seed_transpiler\": seed}\n",
    ")\n",
    "\n",
    "# noisy x = 0.99X + 0.01I"
   ],
   "metadata": {
    "collapsed": false,
    "ExecuteTime": {
     "end_time": "2024-06-21T07:38:13.230425Z",
     "start_time": "2024-06-21T07:38:13.227873Z"
    }
   },
   "id": "4152c54ccaf34b3f",
   "execution_count": 105
  },
  {
   "cell_type": "code",
   "outputs": [],
   "source": [
    "ansatz = UCCSD(\n",
    "    es_problem.num_spatial_orbitals,\n",
    "    es_problem.num_particles,\n",
    "    mapper,\n",
    "    initial_state=HartreeFock(\n",
    "        es_problem.num_spatial_orbitals,\n",
    "        es_problem.num_particles,\n",
    "        mapper,\n",
    "    ),\n",
    ")\n",
    "\n",
    "vqe_solver = VQE(noisy_estimator, ansatz, L_BFGS_B())\n",
    "vqe_solver.initial_point = [0.0] * ansatz.num_parameters"
   ],
   "metadata": {
    "collapsed": false,
    "ExecuteTime": {
     "end_time": "2024-06-21T07:38:13.752719Z",
     "start_time": "2024-06-21T07:38:13.744853Z"
    }
   },
   "id": "9cf156b6ee9c3552",
   "execution_count": 106
  },
  {
   "cell_type": "code",
   "outputs": [
    {
     "data": {
      "text/plain": "<Figure size 1350.8x264.88 with 1 Axes>",
      "image/png": "[encoded data removed]"
     },
     "execution_count": 7,
     "metadata": {},
     "output_type": "execute_result"
    }
   ],
   "source": [
    "circuit = QuantumCircuit(4)\n",
    "circuit.compose(ansatz.initial_state, inplace=True)\n",
    "for block in ansatz._entanglement_blocks:\n",
    "  circuit.compose(block, inplace=True)\n",
    "circuit.draw(output=\"mpl\")"
   ],
   "metadata": {
    "collapsed": false,
    "ExecuteTime": {
     "end_time": "2024-06-21T02:46:23.460821Z",
     "start_time": "2024-06-21T02:46:22.973303Z"
    }
   },
   "id": "42114eb1b52fb82e",
   "execution_count": 7
  },
  {
   "cell_type": "code",
   "outputs": [
    {
     "name": "stdout",
     "output_type": "stream",
     "text": [
      "(0,) => (1,)\n",
      "(2,) => (3,)\n",
      "(0, 2) => (1, 3)\n"
     ]
    }
   ],
   "source": [
    "for excitation in ansatz._excitation_list:\n",
    "    print(f\"{excitation[0]} => {excitation[1]}\")"
   ],
   "metadata": {
    "collapsed": false,
    "ExecuteTime": {
     "end_time": "2024-06-21T02:46:23.892144Z",
     "start_time": "2024-06-21T02:46:23.889479Z"
    }
   },
   "id": "3a0a8229e5df93db",
   "execution_count": 8
  },
  {
   "cell_type": "code",
   "outputs": [
    {
     "data": {
      "text/plain": "SparsePauliOp(['IIXY', 'IIYX'],\n              coeffs=[ 0.5+0.j, -0.5+0.j])"
     },
     "execution_count": 44,
     "metadata": {},
     "output_type": "execute_result"
    }
   ],
   "source": [
    "from qiskit.synthesis import qs_decomposition\n",
    "unitary = ansatz.operators[0]\n",
    "# circ.draw('mpl')\n",
    "unitary"
   ],
   "metadata": {
    "collapsed": false,
    "ExecuteTime": {
     "end_time": "2024-06-21T02:55:57.236124Z",
     "start_time": "2024-06-21T02:55:57.233014Z"
    }
   },
   "id": "bda3538202c64969",
   "execution_count": 44
  },
  {
   "cell_type": "code",
   "outputs": [
    {
     "data": {
      "text/plain": "array([[ True,  True,  True,  True,  True,  True,  True,  True,  True,\n         True,  True,  True,  True,  True,  True,  True],\n       [ True,  True,  True,  True,  True,  True,  True,  True,  True,\n         True,  True,  True,  True,  True,  True,  True],\n       [ True,  True,  True,  True,  True,  True,  True,  True,  True,\n         True,  True,  True,  True,  True,  True,  True],\n       [ True,  True,  True,  True,  True,  True,  True,  True,  True,\n         True,  True,  True,  True,  True,  True,  True],\n       [ True,  True,  True,  True,  True,  True,  True,  True,  True,\n         True,  True,  True,  True,  True,  True,  True],\n       [ True,  True,  True,  True,  True,  True,  True,  True,  True,\n         True,  True,  True,  True,  True,  True,  True],\n       [ True,  True,  True,  True,  True,  True,  True,  True,  True,\n         True,  True,  True,  True,  True,  True,  True],\n       [ True,  True,  True,  True,  True,  True,  True,  True,  True,\n         True,  True,  True,  True,  True,  True,  True],\n       [ True,  True,  True,  True,  True,  True,  True,  True,  True,\n         True,  True,  True,  True,  True,  True,  True],\n       [ True,  True,  True,  True,  True,  True,  True,  True,  True,\n         True,  True,  True,  True,  True,  True,  True],\n       [ True,  True,  True,  True,  True,  True,  True,  True,  True,\n         True,  True,  True,  True,  True,  True,  True],\n       [ True,  True,  True,  True,  True,  True,  True,  True,  True,\n         True,  True,  True,  True,  True,  True,  True],\n       [ True,  True,  True,  True,  True,  True,  True,  True,  True,\n         True,  True,  True,  True,  True,  True,  True],\n       [ True,  True,  True,  True,  True,  True,  True,  True,  True,\n         True,  True,  True,  True,  True,  True,  True],\n       [ True,  True,  True,  True,  True,  True,  True,  True,  True,\n         True,  True,  True,  True,  True,  True,  True],\n       [ True,  True,  True,  True,  True,  True,  True,  True,  True,\n         True,  True,  True,  True,  True,  True,  True]])"
     },
     "execution_count": 41,
     "metadata": {},
     "output_type": "execute_result"
    }
   ],
   "source": [
    "from qiskit.quantum_info import Pauli\n",
    "\n",
    "# Define the Pauli matrices\n",
    "I = Pauli(\"I\")\n",
    "X = Pauli(\"X\")\n",
    "Y = Pauli(\"Y\")\n",
    "\n",
    "# Compute the tensor product\n",
    "p1 = I.tensor(I).tensor(X).tensor(Y).to_matrix()\n",
    "p2 = I.tensor(I).tensor(Y).tensor(X).to_matrix()\n",
    "p3 = (p1 - p2) / 2\n",
    "p3 == unitary.to_matrix()"
   ],
   "metadata": {
    "collapsed": false,
    "ExecuteTime": {
     "end_time": "2024-06-21T02:53:57.084314Z",
     "start_time": "2024-06-21T02:53:57.079641Z"
    }
   },
   "id": "7991c5156ce51a11",
   "execution_count": 41
  },
  {
   "cell_type": "code",
   "outputs": [
    {
     "data": {
      "text/plain": "<Figure size 267.197x264.88 with 1 Axes>",
      "image/png": "[encoded data removed]"
     },
     "execution_count": 51,
     "metadata": {},
     "output_type": "execute_result"
    }
   ],
   "source": [
    "from qiskit import QuantumCircuit\n",
    "\n",
    "# Define the combined operator 0.5 * (IIXY - IIYX)\n",
    "combined_operator = unitary\n",
    "# Create a quantum circuit for a 4-qubit system\n",
    "qc = QuantumCircuit(4)\n",
    "qc.id(0)\n",
    "qc.id(1)\n",
    "qc.x(2)\n",
    "qc.y(3)\n",
    "\n",
    "# Apply the IIYX part with a negative sign\n",
    "qc.id(0)\n",
    "qc.id(1)\n",
    "qc.y(2)\n",
    "qc.x(3)\n",
    "\n",
    "# Apply the 0.5 coefficient\n",
    "theta = np.pi / 4  # equivalent to the sqrt of the coefficient 0.5 in terms of phase\n",
    "qc.rz(theta, 2)\n",
    "qc.rz(theta, 3)\n",
    "# qc.measure_all()\n",
    "qc.draw(output=\"mpl\")"
   ],
   "metadata": {
    "collapsed": false,
    "ExecuteTime": {
     "end_time": "2024-06-21T03:02:09.016699Z",
     "start_time": "2024-06-21T03:02:08.955866Z"
    }
   },
   "id": "f9a36a97a380bfac",
   "execution_count": 51
  },
  {
   "cell_type": "code",
   "outputs": [
    {
     "data": {
      "text/plain": "-0.6206130504615697"
     },
     "execution_count": 128,
     "metadata": {},
     "output_type": "execute_result"
    }
   ],
   "source": [
    "from qiskit_nature.second_q.problems import EigenstateResult\n",
    "\n",
    "raw_result = (vqe_solver.compute_minimum_eigenvalue(qubit_op, aux_op))\n",
    "res = es_problem.interpret(EigenstateResult.from_result(raw_result))\n",
    "res.total_energies[0]"
   ],
   "metadata": {
    "collapsed": false,
    "ExecuteTime": {
     "end_time": "2024-06-21T09:21:55.341107Z",
     "start_time": "2024-06-21T09:21:55.258041Z"
    }
   },
   "id": "81d82763f6495cc7",
   "execution_count": 128
  },
  {
   "cell_type": "code",
   "outputs": [],
   "source": [
    "calc = GroundStateEigensolver(mapper, vqe_solver)\n",
    "res = calc.solve(es_problem)\n",
    "# print(res)"
   ],
   "metadata": {
    "collapsed": false,
    "ExecuteTime": {
     "end_time": "2024-06-21T09:21:53.515867Z",
     "start_time": "2024-06-21T09:21:53.409949Z"
    }
   },
   "id": "aa7b2c4478178de2",
   "execution_count": 126
  },
  {
   "cell_type": "code",
   "outputs": [
    {
     "name": "stdout",
     "output_type": "stream",
     "text": [
      "Total Calculated Energy: -0.6206130504615697\n",
      "Actual Energy: -0.6148699740425608\n",
      "Percentage Error: 0.93%\n"
     ]
    }
   ],
   "source": [
    "calculated = res.eigenvalues[0] + res._nuclear_repulsion_energy\n",
    "actual = res._hartree_fock_energy\n",
    "print(\"Total Calculated Energy:\", calculated)\n",
    "print(\"Actual Energy:\", res._hartree_fock_energy)\n",
    "print(f\"Percentage Error: {(calculated - actual) / calculated * 100:.2f}%\")"
   ],
   "metadata": {
    "collapsed": false,
    "ExecuteTime": {
     "end_time": "2024-06-21T09:22:00.109503Z",
     "start_time": "2024-06-21T09:22:00.107075Z"
    }
   },
   "id": "8d481e1a98782eea",
   "execution_count": 129
  },
  {
   "cell_type": "code",
   "outputs": [
    {
     "name": "stderr",
     "output_type": "stream",
     "text": [
      "Calculating energies: 100%|██████████| 37/37 [00:05<00:00,  6.84it/s]\n"
     ]
    }
   ],
   "source": [
    "distances = np.hstack((np.arange(0.2, 1.55, 0.05), np.arange(1.75, 4.25, 0.25)))\n",
    "vqe_energies = []\n",
    "\n",
    "for distance in tqdm(distances, desc=\"Calculating energies\"):\n",
    "    driver = PySCFDriver(\n",
    "        atom=f\"H 0 0 0; H 0 0 {distance}\",\n",
    "        basis=\"sto3g\",\n",
    "        charge=0,\n",
    "        spin=0,\n",
    "        unit=DistanceUnit.ANGSTROM,\n",
    "    )\n",
    "    es_problem = driver.run()\n",
    "    res = calc.solve(es_problem)\n",
    "    vqe_energies.append(res.eigenvalues[0] + res._nuclear_repulsion_energy)"
   ],
   "metadata": {
    "collapsed": false,
    "ExecuteTime": {
     "end_time": "2024-06-21T07:38:23.985346Z",
     "start_time": "2024-06-21T07:38:18.574167Z"
    }
   },
   "id": "32e6f7599c58a1a",
   "execution_count": 109
  },
  {
   "cell_type": "code",
   "outputs": [
    {
     "name": "stdout",
     "output_type": "stream",
     "text": [
      "The distance that minimizes the energy is: 0.7302392105582309 Å\n",
      "The minimum energy is: -1.096536892803767 Hartree\n"
     ]
    }
   ],
   "source": [
    "import numpy as np\n",
    "from scipy.interpolate import interp1d\n",
    "from scipy.optimize import minimize_scalar\n",
    "\n",
    "interpolated_function = interp1d(distances, vqe_energies, kind='cubic')\n",
    "result = minimize_scalar(interpolated_function, bounds=(distances.min(), distances.max()), method='bounded')\n",
    "\n",
    "min_distance = result.x\n",
    "min_energy = result.fun\n",
    "print(f\"The distance that minimizes the energy is: {min_distance} Å\")\n",
    "print(f\"The minimum energy is: {min_energy} Hartree\")\n",
    "# -0.98 hartree minimum energy for noisy\n",
    "# -1.11 for noiseless"
   ],
   "metadata": {
    "collapsed": false,
    "ExecuteTime": {
     "end_time": "2024-06-21T07:38:23.989717Z",
     "start_time": "2024-06-21T07:38:23.986302Z"
    }
   },
   "id": "19b94d85b00f8bc9",
   "execution_count": 110
  },
  {
   "cell_type": "code",
   "outputs": [
    {
     "data": {
      "text/plain": "<Figure size 1080x720 with 1 Axes>",
      "image/png": "[encoded data removed]"
     },
     "metadata": {
      "needs_background": "light"
     },
     "output_type": "display_data"
    }
   ],
   "source": [
    "fine_distances = np.linspace(distances.min(), distances.max(), 500)\n",
    "interpolated_energies = interpolated_function(fine_distances)\n",
    "plt.figure(figsize=(15, 10))\n",
    "plt.style.use('fast')\n",
    "plt.plot(fine_distances, interpolated_energies, label='Interpolated Energy')\n",
    "plt.plot(min_distance, min_energy, 'go', label='Minimum Energy')\n",
    "plt.plot(distances, vqe_energies, marker='o', color='red', linestyle='', markersize=5, label='VQE Energy')\n",
    "plt.xlabel('Atomic Distance (Å)')\n",
    "plt.ylabel('Energy (Hartree)')\n",
    "plt.title('Energy vs Atomic Distance for H2 Molecule')\n",
    "plt.grid(True)\n",
    "plt.legend()\n",
    "plt.show()"
   ],
   "metadata": {
    "collapsed": false,
    "ExecuteTime": {
     "end_time": "2024-06-21T07:38:24.067953Z",
     "start_time": "2024-06-21T07:38:23.990522Z"
    }
   },
   "id": "83e19fd426b75008",
   "execution_count": 111
  }
 ],
 "metadata": {
  "kernelspec": {
   "display_name": "Python 3",
   "language": "python",
   "name": "python3"
  },
  "language_info": {
   "codemirror_mode": {
    "name": "ipython",
    "version": 2
   },
   "file_extension": ".py",
   "mimetype": "text/x-python",
   "name": "python",
   "nbconvert_exporter": "python",
   "pygments_lexer": "ipython2",
   "version": "2.7.6"
  }
 },
 "nbformat": 4,
 "nbformat_minor": 5
}
