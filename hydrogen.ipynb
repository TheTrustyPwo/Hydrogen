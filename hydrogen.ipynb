{
 "cells": [
  {
   "cell_type": "code",
   "execution_count": 85,
   "id": "initial_id",
   "metadata": {
    "collapsed": true,
    "ExecuteTime": {
     "end_time": "2024-06-20T13:11:45.163146Z",
     "start_time": "2024-06-20T13:11:45.160569Z"
    }
   },
   "outputs": [],
   "source": [
    "import numpy as np\n",
    "import matplotlib.pyplot as plt\n",
    "from tqdm import tqdm\n",
    "from qiskit_nature.units import DistanceUnit\n",
    "from qiskit_nature.second_q.drivers import PySCFDriver\n",
    "from qiskit_nature.second_q.mappers import JordanWignerMapper\n",
    "from qiskit_algorithms import VQE\n",
    "from qiskit_algorithms.optimizers import L_BFGS_B\n",
    "from qiskit.primitives import Estimator\n",
    "from qiskit_algorithms.utils import algorithm_globals\n",
    "from qiskit_aer.primitives import Estimator as AerEstimator\n",
    "from qiskit_nature.second_q.circuit.library import HartreeFock, UCCSD\n",
    "from qiskit_nature.second_q.algorithms import GroundStateEigensolver\n",
    "from qiskit import QuantumCircuit"
   ]
  },
  {
   "cell_type": "code",
   "outputs": [],
   "source": [
    "driver = PySCFDriver(\n",
    "    atom=\"H 0 0 0; H 0 0 0.725\",\n",
    "    basis=\"sto3g\",\n",
    "    charge=0,\n",
    "    spin=0,\n",
    "    unit=DistanceUnit.ANGSTROM,\n",
    ")\n",
    "\n",
    "es_problem = driver.run()"
   ],
   "metadata": {
    "collapsed": false,
    "ExecuteTime": {
     "end_time": "2024-06-20T12:54:27.765090Z",
     "start_time": "2024-06-20T12:54:27.742091Z"
    }
   },
   "id": "4ce9c90525e1b191",
   "execution_count": 36
  },
  {
   "cell_type": "code",
   "outputs": [],
   "source": [
    "mapper = JordanWignerMapper()"
   ],
   "metadata": {
    "collapsed": false,
    "ExecuteTime": {
     "end_time": "2024-06-20T12:54:27.930567Z",
     "start_time": "2024-06-20T12:54:27.928619Z"
    }
   },
   "id": "853bb8b1de2512e1",
   "execution_count": 37
  },
  {
   "cell_type": "code",
   "outputs": [
    {
     "name": "stdout",
     "output_type": "stream",
     "text": [
      "Hamiltonian of Molecule:\n",
      "-0.80718366 * IIII\n",
      "+0.17374013 * IIIZ\n",
      "-0.23047453 * IIZI\n",
      "+0.12148839 * IIZZ\n",
      "+0.17374013 * IZII\n",
      "+0.16940471 * IZIZ\n",
      "+0.16658220 * IZZI\n",
      "+0.04509381 * XXXX\n",
      "+0.04509381 * XXYY\n",
      "+0.04509381 * YYXX\n",
      "+0.04509381 * YYYY\n",
      "-0.23047453 * ZIII\n",
      "+0.16658220 * ZIIZ\n",
      "+0.17510657 * ZIZI\n",
      "+0.12148839 * ZZII\n"
     ]
    }
   ],
   "source": [
    "print(\"Hamiltonian of Molecule:\")\n",
    "hamiltonian = es_problem.hamiltonian.second_q_op()\n",
    "qubit_op = mapper.map(hamiltonian)\n",
    "for pauli, coeff in sorted(qubit_op.label_iter()):\n",
    "    print(f\"{coeff.real:+.8f} * {pauli}\")"
   ],
   "metadata": {
    "collapsed": false,
    "ExecuteTime": {
     "end_time": "2024-06-20T12:54:28.097827Z",
     "start_time": "2024-06-20T12:54:28.078911Z"
    }
   },
   "id": "7e3da0e5ef00e218",
   "execution_count": 38
  },
  {
   "cell_type": "code",
   "outputs": [
    {
     "name": "stdout",
     "output_type": "stream",
     "text": [
      "NoiseModel:\n",
      "  Basis gates: ['cx', 'delay', 'id', 'measure', 'reset', 'rz', 'sx', 'x']\n",
      "  Instructions with noise: ['cx', 'x', 'measure', 'sx', 'id']\n",
      "  Qubits with noise: [0, 1, 2, 3]\n",
      "  Specific qubit errors: [('cx', (0, 1)), ('cx', (1, 0)), ('cx', (0, 2)), ('cx', (2, 0)), ('cx', (0, 3)), ('cx', (3, 0)), ('cx', (1, 2)), ('cx', (2, 1)), ('cx', (1, 3)), ('cx', (3, 1)), ('cx', (2, 3)), ('cx', (3, 2)), ('id', (0,)), ('id', (1,)), ('id', (2,)), ('id', (3,)), ('sx', (0,)), ('sx', (1,)), ('sx', (2,)), ('sx', (3,)), ('x', (0,)), ('x', (1,)), ('x', (2,)), ('x', (3,)), ('measure', (0,)), ('measure', (1,)), ('measure', (2,)), ('measure', (3,))]\n"
     ]
    }
   ],
   "source": [
    "from qiskit_aer.noise import NoiseModel\n",
    "from qiskit.providers.fake_provider import GenericBackendV2\n",
    "\n",
    "\n",
    "seed = 70\n",
    "algorithm_globals.random_seed = seed\n",
    "\n",
    "device = GenericBackendV2(num_qubits=4, seed=seed)\n",
    "noise_model = NoiseModel.from_backend(device)\n",
    "# noise_model.add_all_qubit_quantum_error()\n",
    "print(noise_model)\n",
    "\n",
    "noisy_estimator = AerEstimator(\n",
    "    backend_options={\n",
    "        \"method\": \"density_matrix\",\n",
    "        \"noise_model\": noise_model,\n",
    "    },\n",
    "    run_options={\"seed\": seed, \"shots\": 1024},\n",
    "    transpile_options={\"seed_transpiler\": seed},\n",
    ")\n",
    "\n",
    "noiseless_estimator = AerEstimator(\n",
    "    run_options={\"seed\": seed, \"shots\": 1024},\n",
    "    transpile_options={\"seed_transpiler\": seed}\n",
    ")\n",
    "\n",
    "# noisy x = 0.99X + 0.01I"
   ],
   "metadata": {
    "collapsed": false,
    "ExecuteTime": {
     "end_time": "2024-06-20T14:27:25.780951Z",
     "start_time": "2024-06-20T14:27:25.732179Z"
    }
   },
   "id": "4152c54ccaf34b3f",
   "execution_count": 240
  },
  {
   "cell_type": "code",
   "outputs": [],
   "source": [
    "ansatz = UCCSD(\n",
    "    es_problem.num_spatial_orbitals,\n",
    "    es_problem.num_particles,\n",
    "    mapper,\n",
    "    initial_state=HartreeFock(\n",
    "        es_problem.num_spatial_orbitals,\n",
    "        es_problem.num_particles,\n",
    "        mapper,\n",
    "    ),\n",
    ")\n",
    "\n",
    "vqe_solver = VQE(noiseless_estimator, ansatz, L_BFGS_B())\n",
    "vqe_solver.initial_point = [0.0] * ansatz.num_parameters"
   ],
   "metadata": {
    "collapsed": false,
    "ExecuteTime": {
     "end_time": "2024-06-20T14:29:34.568237Z",
     "start_time": "2024-06-20T14:29:34.560806Z"
    }
   },
   "id": "9cf156b6ee9c3552",
   "execution_count": 242
  },
  {
   "cell_type": "code",
   "outputs": [
    {
     "data": {
      "text/plain": "<Figure size 1350.8x264.88 with 1 Axes>",
      "image/png": "[encoded data removed]"
     },
     "execution_count": 215,
     "metadata": {},
     "output_type": "execute_result"
    }
   ],
   "source": [
    "circuit = QuantumCircuit(4)\n",
    "circuit.compose(ansatz.initial_state, inplace=True)\n",
    "for block in ansatz._entanglement_blocks:\n",
    "  circuit.compose(block, inplace=True)\n",
    "circuit.draw(output=\"mpl\")"
   ],
   "metadata": {
    "collapsed": false,
    "ExecuteTime": {
     "end_time": "2024-06-20T13:55:24.760963Z",
     "start_time": "2024-06-20T13:55:24.700765Z"
    }
   },
   "id": "42114eb1b52fb82e",
   "execution_count": 215
  },
  {
   "cell_type": "code",
   "outputs": [
    {
     "name": "stdout",
     "output_type": "stream",
     "text": [
      "(0,) => (1,)\n",
      "(2,) => (3,)\n",
      "(0, 2) => (1, 3)\n"
     ]
    }
   ],
   "source": [
    "for excitation in ansatz._excitation_list:\n",
    "    print(f\"{excitation[0]} => {excitation[1]}\")"
   ],
   "metadata": {
    "collapsed": false,
    "ExecuteTime": {
     "end_time": "2024-06-20T14:01:33.815052Z",
     "start_time": "2024-06-20T14:01:33.812617Z"
    }
   },
   "id": "3a0a8229e5df93db",
   "execution_count": 229
  },
  {
   "cell_type": "code",
   "outputs": [
    {
     "data": {
      "text/plain": "[SparsePauliOp(['IIXY', 'IIYX'],\n               coeffs=[ 0.5+0.j, -0.5+0.j]),\n SparsePauliOp(['XYII', 'YXII'],\n               coeffs=[ 0.5+0.j, -0.5+0.j]),\n SparsePauliOp(['YYXY', 'XYYY', 'XXXY', 'YXYY', 'XYXX', 'YYYX', 'YXXX', 'XXYX'],\n               coeffs=[-0.125+0.j, -0.125+0.j, -0.125+0.j,  0.125+0.j, -0.125+0.j,  0.125+0.j,\n   0.125+0.j,  0.125+0.j])]"
     },
     "execution_count": 248,
     "metadata": {},
     "output_type": "execute_result"
    }
   ],
   "source": [
    "ansatz.operators"
   ],
   "metadata": {
    "collapsed": false,
    "ExecuteTime": {
     "end_time": "2024-06-20T14:35:51.697069Z",
     "start_time": "2024-06-20T14:35:51.693809Z"
    }
   },
   "id": "bda3538202c64969",
   "execution_count": 248
  },
  {
   "cell_type": "code",
   "outputs": [],
   "source": [
    "# from qiskit_nature.second_q.problems import EigenstateResult\n",
    "# \n",
    "# raw_result = (vqe_solver.compute_minimum_eigenvalue(qubit_op))\n",
    "# res = es_problem.interpret(EigenstateResult.from_result(raw_result))"
   ],
   "metadata": {
    "collapsed": false,
    "ExecuteTime": {
     "end_time": "2024-06-20T14:01:42.372283Z",
     "start_time": "2024-06-20T14:01:42.370304Z"
    }
   },
   "id": "81d82763f6495cc7",
   "execution_count": 230
  },
  {
   "cell_type": "code",
   "outputs": [],
   "source": [
    "calc = GroundStateEigensolver(mapper, vqe_solver)\n",
    "res = calc.solve(es_problem)\n",
    "# print(res)"
   ],
   "metadata": {
    "collapsed": false,
    "ExecuteTime": {
     "end_time": "2024-06-20T14:29:38.265656Z",
     "start_time": "2024-06-20T14:29:38.138469Z"
    }
   },
   "id": "aa7b2c4478178de2",
   "execution_count": 243
  },
  {
   "cell_type": "code",
   "outputs": [
    {
     "name": "stdout",
     "output_type": "stream",
     "text": [
      "Total Calculated Energy: -0.6117336766016851\n",
      "Actual Energy: -0.6148699740425608\n",
      "Percentage Error: -0.51%\n"
     ]
    }
   ],
   "source": [
    "calculated = res.eigenvalues[0] + res._nuclear_repulsion_energy\n",
    "actual = res._hartree_fock_energy\n",
    "print(\"Total Calculated Energy:\", calculated)\n",
    "print(\"Actual Energy:\", res._hartree_fock_energy)\n",
    "print(f\"Percentage Error: {(calculated - actual) / calculated * 100:.2f}%\")"
   ],
   "metadata": {
    "collapsed": false,
    "ExecuteTime": {
     "end_time": "2024-06-20T14:29:38.341374Z",
     "start_time": "2024-06-20T14:29:38.338765Z"
    }
   },
   "id": "8d481e1a98782eea",
   "execution_count": 244
  },
  {
   "cell_type": "code",
   "outputs": [
    {
     "name": "stderr",
     "output_type": "stream",
     "text": [
      "Calculating energies: 100%|██████████| 37/37 [00:04<00:00,  7.73it/s]\n"
     ]
    }
   ],
   "source": [
    "distances = np.hstack((np.arange(0.2, 1.55, 0.05), np.arange(1.75, 4.25, 0.25)))\n",
    "vqe_energies = []\n",
    "\n",
    "for distance in tqdm(distances, desc=\"Calculating energies\"):\n",
    "    driver = PySCFDriver(\n",
    "        atom=f\"H 0 0 0; H 0 0 {distance}\",\n",
    "        basis=\"sto3g\",\n",
    "        charge=0,\n",
    "        spin=0,\n",
    "        unit=DistanceUnit.ANGSTROM,\n",
    "    )\n",
    "    es_problem = driver.run()\n",
    "    res = calc.solve(es_problem)\n",
    "    vqe_energies.append(res.eigenvalues[0] + res._nuclear_repulsion_energy)"
   ],
   "metadata": {
    "collapsed": false,
    "ExecuteTime": {
     "end_time": "2024-06-20T14:29:45.457746Z",
     "start_time": "2024-06-20T14:29:40.667020Z"
    }
   },
   "id": "32e6f7599c58a1a",
   "execution_count": 245
  },
  {
   "cell_type": "code",
   "outputs": [
    {
     "name": "stdout",
     "output_type": "stream",
     "text": [
      "The distance that minimizes the energy is: 0.7120002236312097 Å\n",
      "The minimum energy is: -1.115751881753092 Hartree\n"
     ]
    }
   ],
   "source": [
    "import numpy as np\n",
    "from scipy.interpolate import interp1d\n",
    "from scipy.optimize import minimize_scalar\n",
    "\n",
    "interpolated_function = interp1d(distances, vqe_energies, kind='cubic')\n",
    "result = minimize_scalar(interpolated_function, bounds=(distances.min(), distances.max()), method='bounded')\n",
    "\n",
    "min_distance = result.x\n",
    "min_energy = result.fun\n",
    "print(f\"The distance that minimizes the energy is: {min_distance} Å\")\n",
    "print(f\"The minimum energy is: {min_energy} Hartree\")\n",
    "# -0.98 hartree minimum energy for noisy\n",
    "# -1.11 for noiseless"
   ],
   "metadata": {
    "collapsed": false,
    "ExecuteTime": {
     "end_time": "2024-06-20T14:29:45.462348Z",
     "start_time": "2024-06-20T14:29:45.458632Z"
    }
   },
   "id": "19b94d85b00f8bc9",
   "execution_count": 246
  },
  {
   "cell_type": "code",
   "outputs": [
    {
     "data": {
      "text/plain": "<Figure size 1080x720 with 1 Axes>",
      "image/png": "[encoded data removed]"
     },
     "metadata": {},
     "output_type": "display_data"
    }
   ],
   "source": [
    "fine_distances = np.linspace(distances.min(), distances.max(), 500)\n",
    "interpolated_energies = interpolated_function(fine_distances)\n",
    "plt.figure(figsize=(15, 10))\n",
    "plt.style.use('fast')\n",
    "plt.plot(fine_distances, interpolated_energies, label='Interpolated Energy')\n",
    "plt.plot(min_distance, min_energy, 'go', label='Minimum Energy')\n",
    "plt.plot(distances, vqe_energies, marker='o', color='red', linestyle='', markersize=5, label='VQE Energy')\n",
    "plt.xlabel('Atomic Distance (Å)')\n",
    "plt.ylabel('Energy (Hartree)')\n",
    "plt.title('Energy vs Atomic Distance for H2 Molecule')\n",
    "plt.grid(True)\n",
    "plt.legend()\n",
    "plt.show()"
   ],
   "metadata": {
    "collapsed": false,
    "ExecuteTime": {
     "end_time": "2024-06-20T14:30:56.405415Z",
     "start_time": "2024-06-20T14:30:56.322453Z"
    }
   },
   "id": "83e19fd426b75008",
   "execution_count": 247
  },
  {
   "cell_type": "code",
   "outputs": [],
   "source": [],
   "metadata": {
    "collapsed": false
   },
   "id": "9c796d41d4826bd8"
  }
 ],
 "metadata": {
  "kernelspec": {
   "display_name": "Python 3",
   "language": "python",
   "name": "python3"
  },
  "language_info": {
   "codemirror_mode": {
    "name": "ipython",
    "version": 2
   },
   "file_extension": ".py",
   "mimetype": "text/x-python",
   "name": "python",
   "nbconvert_exporter": "python",
   "pygments_lexer": "ipython2",
   "version": "2.7.6"
  }
 },
 "nbformat": 4,
 "nbformat_minor": 5
}
